{
  "nbformat": 4,
  "nbformat_minor": 0,
  "metadata": {
    "colab": {
      "provenance": [],
      "include_colab_link": true
    },
    "kernelspec": {
      "name": "python3",
      "display_name": "Python 3"
    }
  },
  "cells": [
    {
      "cell_type": "markdown",
      "metadata": {
        "id": "view-in-github",
        "colab_type": "text"
      },
      "source": [
        "<a href=\"https://colab.research.google.com/github/youssefjedidi/Aircraft_Noise_Predictor/blob/main/aircraft_noise_predictor_ML_regression.ipynb\" target=\"_parent\"><img src=\"https://colab.research.google.com/assets/colab-badge.svg\" alt=\"Open In Colab\"/></a>"
      ]
    },
    {
      "cell_type": "markdown",
      "metadata": {
        "id": "CazISR8X_HUG"
      },
      "source": [
        "# ML Regression models"
      ]
    },
    {
      "cell_type": "markdown",
      "metadata": {
        "id": "pOyqYHTk_Q57"
      },
      "source": [
        "## Importing the libraries"
      ]
    },
    {
      "cell_type": "code",
      "metadata": {
        "id": "T_YHJjnD_Tja"
      },
      "source": [
        "import numpy as np\n",
        "import matplotlib.pyplot as plt\n",
        "import pandas as pd"
      ],
      "execution_count": 1,
      "outputs": []
    },
    {
      "cell_type": "markdown",
      "metadata": {
        "id": "vgC61-ah_WIz"
      },
      "source": [
        "## Importing the dataset"
      ]
    },
    {
      "cell_type": "code",
      "metadata": {
        "id": "UrxyEKGn_ez7"
      },
      "source": [
        "dataset = pd.read_csv('aircraft_noise.csv')\n",
        "X = dataset.iloc[:, 1:-1].values\n",
        "y = dataset.iloc[:, -1].values"
      ],
      "execution_count": 2,
      "outputs": []
    },
    {
      "cell_type": "code",
      "metadata": {
        "id": "GOB3QhV9B5kD",
        "colab": {
          "base_uri": "https://localhost:8080/"
        },
        "outputId": "8e44d54a-f2d1-4655-cfc1-61cab7a3522a"
      },
      "source": [
        "print(X)"
      ],
      "execution_count": 3,
      "outputs": [
        {
          "output_type": "stream",
          "name": "stdout",
          "text": [
            "[['LAmax' 'A' 1500 ... 1 1695 2325]\n",
            " ['LAmax' 'A' 1600 ... 1 1695 2325]\n",
            " ['PNLTM' 'A' 1500 ... 1 1695 2325]\n",
            " ...\n",
            " ['EPNL' 'D' 80000 ... 4 6752 1254430]\n",
            " ['SEL' 'D' 80000 ... 4 6837 1254430]\n",
            " ['EPNL' 'D' 80000 ... 4 6837 1254430]]\n"
          ]
        }
      ]
    },
    {
      "cell_type": "markdown",
      "metadata": {
        "id": "VadrvE7s_lS9"
      },
      "source": [
        "## Encoding categorical data"
      ]
    },
    {
      "cell_type": "code",
      "metadata": {
        "id": "wV3fD1mbAvsh",
        "colab": {
          "base_uri": "https://localhost:8080/"
        },
        "outputId": "bff10969-fb43-4ecc-d3d1-f9a2987e8362"
      },
      "source": [
        "import numpy as np\n",
        "from sklearn.compose import ColumnTransformer\n",
        "from sklearn.preprocessing import OneHotEncoder, LabelEncoder\n",
        "\n",
        "# Assuming 'Op Mode' is a categorical column\n",
        "gen_encoder = LabelEncoder()\n",
        "X[:, 1] = gen_encoder.fit_transform(X[:, 1])\n",
        "column_to_remove = 6\n",
        "\n",
        "print(X)\n",
        "# Define the column transformer\n",
        "ct = ColumnTransformer(transformers=[('encoder', OneHotEncoder(), [ 0 , 3 , 4])], remainder='passthrough')\n",
        "X = np.array(ct.fit_transform(X))\n",
        "# Now, X_encoded should contain your transformed data\n"
      ],
      "execution_count": 4,
      "outputs": [
        {
          "output_type": "stream",
          "name": "stdout",
          "text": [
            "[['LAmax' 0 1500 ... 1 1695 2325]\n",
            " ['LAmax' 0 1600 ... 1 1695 2325]\n",
            " ['PNLTM' 0 1500 ... 1 1695 2325]\n",
            " ...\n",
            " ['EPNL' 1 80000 ... 4 6752 1254430]\n",
            " ['SEL' 1 80000 ... 4 6837 1254430]\n",
            " ['EPNL' 1 80000 ... 4 6837 1254430]]\n"
          ]
        }
      ]
    },
    {
      "cell_type": "code",
      "source": [
        "import seaborn as sns\n",
        "\n",
        "# Compute the correlation matrix\n",
        "correlation_matrix = pd.DataFrame(X).corr()\n",
        "\n",
        "# Visualize the correlation matrix as a heatmap\n",
        "plt.figure(figsize=(12, 8))\n",
        "sns.heatmap(correlation_matrix, annot=True, cmap='coolwarm', fmt=\".2f\", linewidths=0.5)\n",
        "plt.title('Correlation Heatmap of Independent Variables')\n",
        "plt.show()"
      ],
      "metadata": {
        "colab": {
          "base_uri": "https://localhost:8080/",
          "height": 520
        },
        "id": "_1uRtyuvW4bC",
        "outputId": "df7a56e9-1719-4519-c65b-c3b67cfa4cb1"
      },
      "execution_count": 5,
      "outputs": [
        {
          "output_type": "display_data",
          "data": {
            "text/plain": [
              "<Figure size 1200x800 with 2 Axes>"
            ],
            "image/png": "[encoded data removed]"
          },
          "metadata": {}
        }
      ]
    },
    {
      "cell_type": "code",
      "metadata": {
        "id": "4ym3HdYeCGYG",
        "colab": {
          "base_uri": "https://localhost:8080/"
        },
        "outputId": "9bf26902-70fd-441a-d20c-72145cff6673"
      },
      "source": [
        "X = np.delete(X, 7, axis=1)\n",
        "print(X)"
      ],
      "execution_count": 6,
      "outputs": [
        {
          "output_type": "stream",
          "name": "stdout",
          "text": [
            "[[0.0 1.0 0.0 ... 1 1695 2325]\n",
            " [0.0 1.0 0.0 ... 1 1695 2325]\n",
            " [0.0 0.0 1.0 ... 1 1695 2325]\n",
            " ...\n",
            " [1.0 0.0 0.0 ... 4 6752 1254430]\n",
            " [0.0 0.0 0.0 ... 4 6837 1254430]\n",
            " [1.0 0.0 0.0 ... 4 6837 1254430]]\n"
          ]
        }
      ]
    },
    {
      "cell_type": "markdown",
      "metadata": {
        "id": "WemVnqgeA70k"
      },
      "source": [
        "## Splitting the dataset into the Training set and Test set"
      ]
    },
    {
      "cell_type": "code",
      "metadata": {
        "id": "Kb_v_ae-A-20"
      },
      "source": [
        "from sklearn.model_selection import train_test_split\n",
        "X_train, X_test, y_train, y_test = train_test_split(X, y, test_size = 0.2, random_state = 42)"
      ],
      "execution_count": 7,
      "outputs": []
    },
    {
      "cell_type": "markdown",
      "source": [
        "## Multiple Linear Regression\n"
      ],
      "metadata": {
        "id": "1bQtFvUiEsay"
      }
    },
    {
      "cell_type": "markdown",
      "metadata": {
        "id": "k-McZVsQBINc"
      },
      "source": [
        "### Training the Multiple Linear Regression model on the Training set"
      ]
    },
    {
      "cell_type": "code",
      "metadata": {
        "id": "ywPjx0L1BMiD",
        "colab": {
          "base_uri": "https://localhost:8080/",
          "height": 0
        },
        "outputId": "756601a7-da00-4931-ac90-3df10fc92818"
      },
      "source": [
        "from sklearn.linear_model import LinearRegression\n",
        "regressor = LinearRegression()\n",
        "regressor.fit(X_train, y_train)"
      ],
      "execution_count": 8,
      "outputs": [
        {
          "output_type": "execute_result",
          "data": {
            "text/plain": [
              "LinearRegression()"
            ],
            "text/html": [
              "<style>#sk-container-id-1 {color: black;background-color: white;}#sk-container-id-1 pre{padding: 0;}#sk-container-id-1 div.sk-toggleable {background-color: white;}#sk-container-id-1 label.sk-toggleable__label {cursor: pointer;display: block;width: 100%;margin-bottom: 0;padding: 0.3em;box-sizing: border-box;text-align: center;}#sk-container-id-1 label.sk-toggleable__label-arrow:before {content: \"▸\";float: left;margin-right: 0.25em;color: #696969;}#sk-container-id-1 label.sk-toggleable__label-arrow:hover:before {color: black;}#sk-container-id-1 div.sk-estimator:hover label.sk-toggleable__label-arrow:before {color: black;}#sk-container-id-1 div.sk-toggleable__content {max-height: 0;max-width: 0;overflow: hidden;text-align: left;background-color: #f0f8ff;}#sk-container-id-1 div.sk-toggleable__content pre {margin: 0.2em;color: black;border-radius: 0.25em;background-color: #f0f8ff;}#sk-container-id-1 input.sk-toggleable__control:checked~div.sk-toggleable__content {max-height: 200px;max-width: 100%;overflow: auto;}#sk-container-id-1 input.sk-toggleable__control:checked~label.sk-toggleable__label-arrow:before {content: \"▾\";}#sk-container-id-1 div.sk-estimator input.sk-toggleable__control:checked~label.sk-toggleable__label {background-color: #d4ebff;}#sk-container-id-1 div.sk-label input.sk-toggleable__control:checked~label.sk-toggleable__label {background-color: #d4ebff;}#sk-container-id-1 input.sk-hidden--visually {border: 0;clip: rect(1px 1px 1px 1px);clip: rect(1px, 1px, 1px, 1px);height: 1px;margin: -1px;overflow: hidden;padding: 0;position: absolute;width: 1px;}#sk-container-id-1 div.sk-estimator {font-family: monospace;background-color: #f0f8ff;border: 1px dotted black;border-radius: 0.25em;box-sizing: border-box;margin-bottom: 0.5em;}#sk-container-id-1 div.sk-estimator:hover {background-color: #d4ebff;}#sk-container-id-1 div.sk-parallel-item::after {content: \"\";width: 100%;border-bottom: 1px solid gray;flex-grow: 1;}#sk-container-id-1 div.sk-label:hover label.sk-toggleable__label {background-color: #d4ebff;}#sk-container-id-1 div.sk-serial::before {content: \"\";position: absolute;border-left: 1px solid gray;box-sizing: border-box;top: 0;bottom: 0;left: 50%;z-index: 0;}#sk-container-id-1 div.sk-serial {display: flex;flex-direction: column;align-items: center;background-color: white;padding-right: 0.2em;padding-left: 0.2em;position: relative;}#sk-container-id-1 div.sk-item {position: relative;z-index: 1;}#sk-container-id-1 div.sk-parallel {display: flex;align-items: stretch;justify-content: center;background-color: white;position: relative;}#sk-container-id-1 div.sk-item::before, #sk-container-id-1 div.sk-parallel-item::before {content: \"\";position: absolute;border-left: 1px solid gray;box-sizing: border-box;top: 0;bottom: 0;left: 50%;z-index: -1;}#sk-container-id-1 div.sk-parallel-item {display: flex;flex-direction: column;z-index: 1;position: relative;background-color: white;}#sk-container-id-1 div.sk-parallel-item:first-child::after {align-self: flex-end;width: 50%;}#sk-container-id-1 div.sk-parallel-item:last-child::after {align-self: flex-start;width: 50%;}#sk-container-id-1 div.sk-parallel-item:only-child::after {width: 0;}#sk-container-id-1 div.sk-dashed-wrapped {border: 1px dashed gray;margin: 0 0.4em 0.5em 0.4em;box-sizing: border-box;padding-bottom: 0.4em;background-color: white;}#sk-container-id-1 div.sk-label label {font-family: monospace;font-weight: bold;display: inline-block;line-height: 1.2em;}#sk-container-id-1 div.sk-label-container {text-align: center;}#sk-container-id-1 div.sk-container {/* jupyter's `normalize.less` sets `[hidden] { display: none; }` but bootstrap.min.css set `[hidden] { display: none !important; }` so we also need the `!important` here to be able to override the default hidden behavior on the sphinx rendered scikit-learn.org. See: https://github.com/scikit-learn/scikit-learn/issues/21755 */display: inline-block !important;position: relative;}#sk-container-id-1 div.sk-text-repr-fallback {display: none;}</style><div id=\"sk-container-id-1\" class=\"sk-top-container\"><div class=\"sk-text-repr-fallback\"><pre>LinearRegression()</pre><b>In a Jupyter environment, please rerun this cell to show the HTML representation or trust the notebook. <br />On GitHub, the HTML representation is unable to render, please try loading this page with nbviewer.org.</b></div><div class=\"sk-container\" hidden><div class=\"sk-item\"><div class=\"sk-estimator sk-toggleable\"><input class=\"sk-toggleable__control sk-hidden--visually\" id=\"sk-estimator-id-1\" type=\"checkbox\" checked><label for=\"sk-estimator-id-1\" class=\"sk-toggleable__label sk-toggleable__label-arrow\">LinearRegression</label><div class=\"sk-toggleable__content\"><pre>LinearRegression()</pre></div></div></div></div></div>"
            ]
          },
          "metadata": {},
          "execution_count": 8
        }
      ]
    },
    {
      "cell_type": "markdown",
      "metadata": {
        "id": "xNkXL1YQBiBT"
      },
      "source": [
        "### Predicting the Test set results"
      ]
    },
    {
      "cell_type": "code",
      "metadata": {
        "id": "TQKmwvtdBkyb",
        "colab": {
          "base_uri": "https://localhost:8080/"
        },
        "outputId": "4dfc84fc-4e0c-4aec-de6f-111b3a02b162"
      },
      "source": [
        "y_pred = regressor.predict(X_test)\n",
        "np.set_printoptions(precision=2)\n",
        "print(np.concatenate((y_pred.reshape(len(y_pred),1), y_test.reshape(len(y_test),1)),1))"
      ],
      "execution_count": 9,
      "outputs": [
        {
          "output_type": "stream",
          "name": "stdout",
          "text": [
            "[[52.65 49.1 ]\n",
            " [71.42 69.8 ]\n",
            " [68.44 61.  ]\n",
            " ...\n",
            " [67.17 62.9 ]\n",
            " [61.12 65.2 ]\n",
            " [50.41 45.2 ]]\n"
          ]
        }
      ]
    },
    {
      "cell_type": "markdown",
      "source": [
        "### Testing accuracy"
      ],
      "metadata": {
        "id": "uwoHWWZZjli_"
      }
    },
    {
      "cell_type": "code",
      "source": [
        "def mean_absolute_percentage_error(y_true, y_pred):\n",
        "    return (np.mean(np.abs((y_true - y_pred) / y_true)) * 100)\n",
        "\n",
        "mape = mean_absolute_percentage_error(y_test, y_pred)\n",
        "\n",
        "print(f\"Mean Absolute Percentage Error (MAPE): {mape:.2f}%\")\n",
        "#print(regressor.predict([[1, 0, 0, 1 ,0 ,0 , 0,0 ,1 , 300]]))\n",
        "\n",
        "from sklearn.metrics import r2_score\n",
        "\n",
        "# Assuming y_test contains the actual target values and y_pred contains the predicted values\n",
        "# Calculate R squared\n",
        "r2 = r2_score(y_test, y_pred)\n",
        "\n",
        "# Calculate adjusted R squared\n",
        "n = len(y_test)  # Number of samples\n",
        "p = X.shape[1]   # Number of predictors (features) in your model\n",
        "adj_r2 = 1 - (1 - r2) * (n - 1) / (n - p - 1)\n",
        "\n",
        "# Print R-squared and adjusted R-squared\n",
        "print(f\"R squared (r2): {r2:.4f}\")\n",
        "print(f\"Adjusted R squared (adj_r2): {adj_r2:.4f}\")"
      ],
      "metadata": {
        "id": "qobpe3IqjrZP",
        "colab": {
          "base_uri": "https://localhost:8080/"
        },
        "outputId": "9e173563-c00d-4e90-d4f0-599b9bedf291"
      },
      "execution_count": 10,
      "outputs": [
        {
          "output_type": "stream",
          "name": "stdout",
          "text": [
            "Mean Absolute Percentage Error (MAPE): 8.36%\n",
            "R squared (r2): 0.6604\n",
            "Adjusted R squared (adj_r2): 0.6517\n"
          ]
        }
      ]
    },
    {
      "cell_type": "markdown",
      "source": [
        "## Polynomial Regression"
      ],
      "metadata": {
        "id": "KaiCIk9BFVCZ"
      }
    },
    {
      "cell_type": "markdown",
      "source": [
        "### Training"
      ],
      "metadata": {
        "id": "i3yITgkBFgRN"
      }
    },
    {
      "cell_type": "code",
      "source": [
        "from sklearn.preprocessing import PolynomialFeatures\n",
        "poly_reg = PolynomialFeatures(degree = 2)\n",
        "X_poly = poly_reg.fit_transform(X_train)\n",
        "lin_reg_2 = LinearRegression()\n",
        "lin_reg_2.fit(X_poly, y_train)"
      ],
      "metadata": {
        "id": "nPVIdxshFeW6",
        "colab": {
          "base_uri": "https://localhost:8080/",
          "height": 74
        },
        "outputId": "e469be96-c806-4ac6-a846-57545bb3cf80"
      },
      "execution_count": 11,
      "outputs": [
        {
          "output_type": "execute_result",
          "data": {
            "text/plain": [
              "LinearRegression()"
            ],
            "text/html": [
              "<style>#sk-container-id-2 {color: black;background-color: white;}#sk-container-id-2 pre{padding: 0;}#sk-container-id-2 div.sk-toggleable {background-color: white;}#sk-container-id-2 label.sk-toggleable__label {cursor: pointer;display: block;width: 100%;margin-bottom: 0;padding: 0.3em;box-sizing: border-box;text-align: center;}#sk-container-id-2 label.sk-toggleable__label-arrow:before {content: \"▸\";float: left;margin-right: 0.25em;color: #696969;}#sk-container-id-2 label.sk-toggleable__label-arrow:hover:before {color: black;}#sk-container-id-2 div.sk-estimator:hover label.sk-toggleable__label-arrow:before {color: black;}#sk-container-id-2 div.sk-toggleable__content {max-height: 0;max-width: 0;overflow: hidden;text-align: left;background-color: #f0f8ff;}#sk-container-id-2 div.sk-toggleable__content pre {margin: 0.2em;color: black;border-radius: 0.25em;background-color: #f0f8ff;}#sk-container-id-2 input.sk-toggleable__control:checked~div.sk-toggleable__content {max-height: 200px;max-width: 100%;overflow: auto;}#sk-container-id-2 input.sk-toggleable__control:checked~label.sk-toggleable__label-arrow:before {content: \"▾\";}#sk-container-id-2 div.sk-estimator input.sk-toggleable__control:checked~label.sk-toggleable__label {background-color: #d4ebff;}#sk-container-id-2 div.sk-label input.sk-toggleable__control:checked~label.sk-toggleable__label {background-color: #d4ebff;}#sk-container-id-2 input.sk-hidden--visually {border: 0;clip: rect(1px 1px 1px 1px);clip: rect(1px, 1px, 1px, 1px);height: 1px;margin: -1px;overflow: hidden;padding: 0;position: absolute;width: 1px;}#sk-container-id-2 div.sk-estimator {font-family: monospace;background-color: #f0f8ff;border: 1px dotted black;border-radius: 0.25em;box-sizing: border-box;margin-bottom: 0.5em;}#sk-container-id-2 div.sk-estimator:hover {background-color: #d4ebff;}#sk-container-id-2 div.sk-parallel-item::after {content: \"\";width: 100%;border-bottom: 1px solid gray;flex-grow: 1;}#sk-container-id-2 div.sk-label:hover label.sk-toggleable__label {background-color: #d4ebff;}#sk-container-id-2 div.sk-serial::before {content: \"\";position: absolute;border-left: 1px solid gray;box-sizing: border-box;top: 0;bottom: 0;left: 50%;z-index: 0;}#sk-container-id-2 div.sk-serial {display: flex;flex-direction: column;align-items: center;background-color: white;padding-right: 0.2em;padding-left: 0.2em;position: relative;}#sk-container-id-2 div.sk-item {position: relative;z-index: 1;}#sk-container-id-2 div.sk-parallel {display: flex;align-items: stretch;justify-content: center;background-color: white;position: relative;}#sk-container-id-2 div.sk-item::before, #sk-container-id-2 div.sk-parallel-item::before {content: \"\";position: absolute;border-left: 1px solid gray;box-sizing: border-box;top: 0;bottom: 0;left: 50%;z-index: -1;}#sk-container-id-2 div.sk-parallel-item {display: flex;flex-direction: column;z-index: 1;position: relative;background-color: white;}#sk-container-id-2 div.sk-parallel-item:first-child::after {align-self: flex-end;width: 50%;}#sk-container-id-2 div.sk-parallel-item:last-child::after {align-self: flex-start;width: 50%;}#sk-container-id-2 div.sk-parallel-item:only-child::after {width: 0;}#sk-container-id-2 div.sk-dashed-wrapped {border: 1px dashed gray;margin: 0 0.4em 0.5em 0.4em;box-sizing: border-box;padding-bottom: 0.4em;background-color: white;}#sk-container-id-2 div.sk-label label {font-family: monospace;font-weight: bold;display: inline-block;line-height: 1.2em;}#sk-container-id-2 div.sk-label-container {text-align: center;}#sk-container-id-2 div.sk-container {/* jupyter's `normalize.less` sets `[hidden] { display: none; }` but bootstrap.min.css set `[hidden] { display: none !important; }` so we also need the `!important` here to be able to override the default hidden behavior on the sphinx rendered scikit-learn.org. See: https://github.com/scikit-learn/scikit-learn/issues/21755 */display: inline-block !important;position: relative;}#sk-container-id-2 div.sk-text-repr-fallback {display: none;}</style><div id=\"sk-container-id-2\" class=\"sk-top-container\"><div class=\"sk-text-repr-fallback\"><pre>LinearRegression()</pre><b>In a Jupyter environment, please rerun this cell to show the HTML representation or trust the notebook. <br />On GitHub, the HTML representation is unable to render, please try loading this page with nbviewer.org.</b></div><div class=\"sk-container\" hidden><div class=\"sk-item\"><div class=\"sk-estimator sk-toggleable\"><input class=\"sk-toggleable__control sk-hidden--visually\" id=\"sk-estimator-id-2\" type=\"checkbox\" checked><label for=\"sk-estimator-id-2\" class=\"sk-toggleable__label sk-toggleable__label-arrow\">LinearRegression</label><div class=\"sk-toggleable__content\"><pre>LinearRegression()</pre></div></div></div></div></div>"
            ]
          },
          "metadata": {},
          "execution_count": 11
        }
      ]
    },
    {
      "cell_type": "markdown",
      "source": [
        "### Predecting the Test set Results"
      ],
      "metadata": {
        "id": "ZR8sas0oGWO-"
      }
    },
    {
      "cell_type": "code",
      "source": [
        "y_poly = lin_reg_2.predict(poly_reg.fit_transform(X_test))\n",
        "np.set_printoptions(precision=2)\n",
        "print(np.concatenate((y_poly.reshape(len(y_poly),1), y_test.reshape(len(y_test),1)),1))"
      ],
      "metadata": {
        "id": "z38Xsvn6Gcbz",
        "colab": {
          "base_uri": "https://localhost:8080/"
        },
        "outputId": "306e6ca6-0662-4100-dfcb-1208a66b386c"
      },
      "execution_count": 12,
      "outputs": [
        {
          "output_type": "stream",
          "name": "stdout",
          "text": [
            "[[49.2  49.1 ]\n",
            " [71.39 69.8 ]\n",
            " [64.35 61.  ]\n",
            " ...\n",
            " [68.36 62.9 ]\n",
            " [63.9  65.2 ]\n",
            " [49.91 45.2 ]]\n"
          ]
        }
      ]
    },
    {
      "cell_type": "markdown",
      "source": [
        "### Testing accuracy"
      ],
      "metadata": {
        "id": "cZKYpoz1ISBA"
      }
    },
    {
      "cell_type": "code",
      "source": [
        "\n",
        "mape = mean_absolute_percentage_error(y_test, y_poly)\n",
        "\n",
        "print(f\"Mean Absolute Percentage Error (MAPE): {mape:.2f}%\")\n",
        "#print(lin_reg_2.predict(poly_reg.fit_transform([[1, 0, 0, 1 ,0 ,0 , 0,0 ,1 , 300]])))\n",
        "\n",
        "from sklearn.metrics import r2_score\n",
        "\n",
        "# Assuming y_test contains the actual target values and y_pred contains the predicted values\n",
        "# Calculate R squared\n",
        "r2_poly = r2_score(y_test, y_poly)\n",
        "\n",
        "# Calculate adjusted R squared\n",
        "n = len(y_test)  # Number of samples\n",
        "p = X.shape[1]   # Number of predictors (features) in your model\n",
        "adj_r2 = 1 - (1 - r2_poly) * (n - 1) / (n - p - 1)\n",
        "\n",
        "# Print R-squared and adjusted R-squared\n",
        "print(f\"R squared (r2): {r2_poly:.4f}\")\n",
        "print(f\"Adjusted R squared (adj_r2): {adj_r2:.4f}\")"
      ],
      "metadata": {
        "id": "1FS9WwJDIXaq",
        "colab": {
          "base_uri": "https://localhost:8080/"
        },
        "outputId": "1ee50127-85f4-4575-a9f7-d589da3d62b3"
      },
      "execution_count": 13,
      "outputs": [
        {
          "output_type": "stream",
          "name": "stdout",
          "text": [
            "Mean Absolute Percentage Error (MAPE): 6.87%\n",
            "R squared (r2): 0.7628\n",
            "Adjusted R squared (adj_r2): 0.7566\n"
          ]
        }
      ]
    },
    {
      "cell_type": "markdown",
      "source": [
        "## Support Vector Regression (SVR)"
      ],
      "metadata": {
        "id": "AvKhRRoBJpg1"
      }
    },
    {
      "cell_type": "markdown",
      "source": [
        "### Feature Scaling"
      ],
      "metadata": {
        "id": "pSAduU4eJsXn"
      }
    },
    {
      "cell_type": "code",
      "source": [
        "from sklearn.preprocessing import StandardScaler\n",
        "\n",
        "\n",
        "sc_X = StandardScaler()\n",
        "X_scaled = sc_X.fit_transform(X_train)  # Scale and update the fourth column\n",
        "X_test_scaled = sc_X.transform(X_test)\n",
        "\n",
        "X_scaled[: , 0:-4] = X_train[: , 0:-4]\n",
        "X_test_scaled[: , 0:-4] = X_test[: ,0:-4]\n",
        "\n",
        "# Initialize StandardScaler for the target variable\n",
        "sc_y = StandardScaler()\n",
        "y_scaled = sc_y.fit_transform(y_train.reshape(-1, 1))  # Fit and transform the target variable\n",
        "y_test_scaled = sc_y.transform(y_test.reshape(-1, 1))\n",
        "\n",
        "# Now X_scaled and y_scaled are scaled versions of X and y using StandardScaler\n",
        "print(\"Scaled X:\")\n",
        "print(X_scaled)\n",
        "print(\"\\nScaled y:\")\n",
        "print(y_scaled)"
      ],
      "metadata": {
        "id": "92vXmJ_JJ0HP",
        "colab": {
          "base_uri": "https://localhost:8080/"
        },
        "outputId": "a8ee3d0f-9a30-40fa-fb39-432eb9e1120b"
      },
      "execution_count": 14,
      "outputs": [
        {
          "output_type": "stream",
          "name": "stdout",
          "text": [
            "Scaled X:\n",
            "[[ 0.    0.    0.   ... -0.44 -0.54 -0.74]\n",
            " [ 0.    0.    0.   ...  0.83  0.37 -0.13]\n",
            " [ 0.    0.    1.   ...  0.83  0.08 -0.26]\n",
            " ...\n",
            " [ 0.    0.    1.   ... -0.44 -0.99 -0.53]\n",
            " [ 1.    0.    0.   ... -0.44  0.22 -0.45]\n",
            " [ 0.    1.    0.   ... -0.44 -0.04 -0.64]]\n",
            "\n",
            "Scaled y:\n",
            "[[ 0.64]\n",
            " [ 1.69]\n",
            " [ 0.13]\n",
            " ...\n",
            " [-0.51]\n",
            " [ 1.03]\n",
            " [-1.56]]\n"
          ]
        }
      ]
    },
    {
      "cell_type": "markdown",
      "source": [
        "### Training the SVR model"
      ],
      "metadata": {
        "id": "4G_sbM2XLUpe"
      }
    },
    {
      "cell_type": "code",
      "source": [
        "from sklearn.svm import SVR\n",
        "sv_regressor = SVR(kernel = 'rbf')\n",
        "sv_regressor.fit(X_scaled, y_scaled)"
      ],
      "metadata": {
        "id": "iyQ2qflTLXhD",
        "colab": {
          "base_uri": "https://localhost:8080/",
          "height": 129
        },
        "outputId": "73aed394-7216-465a-c088-8bc6537be608"
      },
      "execution_count": 16,
      "outputs": [
        {
          "output_type": "stream",
          "name": "stderr",
          "text": [
            "/usr/local/lib/python3.10/dist-packages/sklearn/utils/validation.py:1143: DataConversionWarning: A column-vector y was passed when a 1d array was expected. Please change the shape of y to (n_samples, ), for example using ravel().\n",
            "  y = column_or_1d(y, warn=True)\n"
          ]
        },
        {
          "output_type": "execute_result",
          "data": {
            "text/plain": [
              "SVR()"
            ],
            "text/html": [
              "<style>#sk-container-id-3 {color: black;background-color: white;}#sk-container-id-3 pre{padding: 0;}#sk-container-id-3 div.sk-toggleable {background-color: white;}#sk-container-id-3 label.sk-toggleable__label {cursor: pointer;display: block;width: 100%;margin-bottom: 0;padding: 0.3em;box-sizing: border-box;text-align: center;}#sk-container-id-3 label.sk-toggleable__label-arrow:before {content: \"▸\";float: left;margin-right: 0.25em;color: #696969;}#sk-container-id-3 label.sk-toggleable__label-arrow:hover:before {color: black;}#sk-container-id-3 div.sk-estimator:hover label.sk-toggleable__label-arrow:before {color: black;}#sk-container-id-3 div.sk-toggleable__content {max-height: 0;max-width: 0;overflow: hidden;text-align: left;background-color: #f0f8ff;}#sk-container-id-3 div.sk-toggleable__content pre {margin: 0.2em;color: black;border-radius: 0.25em;background-color: #f0f8ff;}#sk-container-id-3 input.sk-toggleable__control:checked~div.sk-toggleable__content {max-height: 200px;max-width: 100%;overflow: auto;}#sk-container-id-3 input.sk-toggleable__control:checked~label.sk-toggleable__label-arrow:before {content: \"▾\";}#sk-container-id-3 div.sk-estimator input.sk-toggleable__control:checked~label.sk-toggleable__label {background-color: #d4ebff;}#sk-container-id-3 div.sk-label input.sk-toggleable__control:checked~label.sk-toggleable__label {background-color: #d4ebff;}#sk-container-id-3 input.sk-hidden--visually {border: 0;clip: rect(1px 1px 1px 1px);clip: rect(1px, 1px, 1px, 1px);height: 1px;margin: -1px;overflow: hidden;padding: 0;position: absolute;width: 1px;}#sk-container-id-3 div.sk-estimator {font-family: monospace;background-color: #f0f8ff;border: 1px dotted black;border-radius: 0.25em;box-sizing: border-box;margin-bottom: 0.5em;}#sk-container-id-3 div.sk-estimator:hover {background-color: #d4ebff;}#sk-container-id-3 div.sk-parallel-item::after {content: \"\";width: 100%;border-bottom: 1px solid gray;flex-grow: 1;}#sk-container-id-3 div.sk-label:hover label.sk-toggleable__label {background-color: #d4ebff;}#sk-container-id-3 div.sk-serial::before {content: \"\";position: absolute;border-left: 1px solid gray;box-sizing: border-box;top: 0;bottom: 0;left: 50%;z-index: 0;}#sk-container-id-3 div.sk-serial {display: flex;flex-direction: column;align-items: center;background-color: white;padding-right: 0.2em;padding-left: 0.2em;position: relative;}#sk-container-id-3 div.sk-item {position: relative;z-index: 1;}#sk-container-id-3 div.sk-parallel {display: flex;align-items: stretch;justify-content: center;background-color: white;position: relative;}#sk-container-id-3 div.sk-item::before, #sk-container-id-3 div.sk-parallel-item::before {content: \"\";position: absolute;border-left: 1px solid gray;box-sizing: border-box;top: 0;bottom: 0;left: 50%;z-index: -1;}#sk-container-id-3 div.sk-parallel-item {display: flex;flex-direction: column;z-index: 1;position: relative;background-color: white;}#sk-container-id-3 div.sk-parallel-item:first-child::after {align-self: flex-end;width: 50%;}#sk-container-id-3 div.sk-parallel-item:last-child::after {align-self: flex-start;width: 50%;}#sk-container-id-3 div.sk-parallel-item:only-child::after {width: 0;}#sk-container-id-3 div.sk-dashed-wrapped {border: 1px dashed gray;margin: 0 0.4em 0.5em 0.4em;box-sizing: border-box;padding-bottom: 0.4em;background-color: white;}#sk-container-id-3 div.sk-label label {font-family: monospace;font-weight: bold;display: inline-block;line-height: 1.2em;}#sk-container-id-3 div.sk-label-container {text-align: center;}#sk-container-id-3 div.sk-container {/* jupyter's `normalize.less` sets `[hidden] { display: none; }` but bootstrap.min.css set `[hidden] { display: none !important; }` so we also need the `!important` here to be able to override the default hidden behavior on the sphinx rendered scikit-learn.org. See: https://github.com/scikit-learn/scikit-learn/issues/21755 */display: inline-block !important;position: relative;}#sk-container-id-3 div.sk-text-repr-fallback {display: none;}</style><div id=\"sk-container-id-3\" class=\"sk-top-container\"><div class=\"sk-text-repr-fallback\"><pre>SVR()</pre><b>In a Jupyter environment, please rerun this cell to show the HTML representation or trust the notebook. <br />On GitHub, the HTML representation is unable to render, please try loading this page with nbviewer.org.</b></div><div class=\"sk-container\" hidden><div class=\"sk-item\"><div class=\"sk-estimator sk-toggleable\"><input class=\"sk-toggleable__control sk-hidden--visually\" id=\"sk-estimator-id-3\" type=\"checkbox\" checked><label for=\"sk-estimator-id-3\" class=\"sk-toggleable__label sk-toggleable__label-arrow\">SVR</label><div class=\"sk-toggleable__content\"><pre>SVR()</pre></div></div></div></div></div>"
            ]
          },
          "metadata": {},
          "execution_count": 16
        }
      ]
    },
    {
      "cell_type": "markdown",
      "source": [
        "### Predicting"
      ],
      "metadata": {
        "id": "wbOMCZnJLhp-"
      }
    },
    {
      "cell_type": "code",
      "source": [
        "# Perform predictions using the SVR model on the scaled test features\n",
        "y_svr_scaled = sv_regressor.predict(X_test_scaled)\n",
        "\n",
        "# Inverse transform the scaled predictions to get them back to the original scale\n",
        "y_svr = sc_y.inverse_transform(y_svr_scaled.reshape(-1, 1))\n",
        "\n",
        "np.set_printoptions(precision=2)\n",
        "print(np.concatenate((y_svr.reshape(len(y_svr),1), y_test.reshape(len(y_test),1)),1))"
      ],
      "metadata": {
        "id": "wNJoeaiLLjvT",
        "colab": {
          "base_uri": "https://localhost:8080/"
        },
        "outputId": "67fc1f35-a35c-4485-8e90-209593f18de1"
      },
      "execution_count": 17,
      "outputs": [
        {
          "output_type": "stream",
          "name": "stdout",
          "text": [
            "[[47.21 49.1 ]\n",
            " [67.62 69.8 ]\n",
            " [62.51 61.  ]\n",
            " ...\n",
            " [67.2  62.9 ]\n",
            " [59.9  65.2 ]\n",
            " [49.15 45.2 ]]\n"
          ]
        }
      ]
    },
    {
      "cell_type": "markdown",
      "source": [
        "### Testing accuracy"
      ],
      "metadata": {
        "id": "-RxpZXtFPIWT"
      }
    },
    {
      "cell_type": "code",
      "source": [
        "\n",
        "mape = mean_absolute_percentage_error(y_test, y_svr)\n",
        "print(f\"Mean Absolute Percentage Error (MAPE): {mape:.2f}%\")\n",
        "\n",
        "from sklearn.metrics import r2_score\n",
        "\n",
        "# Assuming y_test contains the actual target values and y_pred contains the predicted values\n",
        "# Calculate R squared\n",
        "r2_svr = r2_score(y_test, y_svr)\n",
        "\n",
        "# Calculate adjusted R squared\n",
        "n = len(y_test)  # Number of samples\n",
        "p = X.shape[1]   # Number of predictors (features) in your model\n",
        "adj_r2 = 1 - (1 - r2_svr) * (n - 1) / (n - p - 1)\n",
        "\n",
        "# Print R-squared and adjusted R-squared\n",
        "print(f\"R squared (r2): {r2_svr:.4f}\")\n",
        "print(f\"Adjusted R squared (adj_r2): {adj_r2:.4f}\")"
      ],
      "metadata": {
        "id": "bNSypRQ7PLaw",
        "colab": {
          "base_uri": "https://localhost:8080/"
        },
        "outputId": "0b8df92f-c73f-44ec-b4b6-065a94150367"
      },
      "execution_count": 18,
      "outputs": [
        {
          "output_type": "stream",
          "name": "stdout",
          "text": [
            "Mean Absolute Percentage Error (MAPE): 20.14%\n",
            "R squared (r2): 0.7966\n",
            "Adjusted R squared (adj_r2): 0.7914\n"
          ]
        }
      ]
    },
    {
      "cell_type": "markdown",
      "source": [
        "## Decision Tree\n",
        "\n"
      ],
      "metadata": {
        "id": "chy4R4aJV59h"
      }
    },
    {
      "cell_type": "markdown",
      "source": [
        "### Training the Decision Tree model on the Training set"
      ],
      "metadata": {
        "id": "-ng4K2WsWNYD"
      }
    },
    {
      "cell_type": "code",
      "source": [
        "from sklearn.tree import DecisionTreeRegressor\n",
        "tree_regressor = DecisionTreeRegressor()\n",
        "tree_regressor.fit(X_train, y_train)"
      ],
      "metadata": {
        "id": "zEGcoQv-WjrP",
        "colab": {
          "base_uri": "https://localhost:8080/",
          "height": 0
        },
        "outputId": "f37653b5-f842-4b94-e290-316e88d62f62"
      },
      "execution_count": 19,
      "outputs": [
        {
          "output_type": "execute_result",
          "data": {
            "text/plain": [
              "DecisionTreeRegressor()"
            ],
            "text/html": [
              "<style>#sk-container-id-4 {color: black;background-color: white;}#sk-container-id-4 pre{padding: 0;}#sk-container-id-4 div.sk-toggleable {background-color: white;}#sk-container-id-4 label.sk-toggleable__label {cursor: pointer;display: block;width: 100%;margin-bottom: 0;padding: 0.3em;box-sizing: border-box;text-align: center;}#sk-container-id-4 label.sk-toggleable__label-arrow:before {content: \"▸\";float: left;margin-right: 0.25em;color: #696969;}#sk-container-id-4 label.sk-toggleable__label-arrow:hover:before {color: black;}#sk-container-id-4 div.sk-estimator:hover label.sk-toggleable__label-arrow:before {color: black;}#sk-container-id-4 div.sk-toggleable__content {max-height: 0;max-width: 0;overflow: hidden;text-align: left;background-color: #f0f8ff;}#sk-container-id-4 div.sk-toggleable__content pre {margin: 0.2em;color: black;border-radius: 0.25em;background-color: #f0f8ff;}#sk-container-id-4 input.sk-toggleable__control:checked~div.sk-toggleable__content {max-height: 200px;max-width: 100%;overflow: auto;}#sk-container-id-4 input.sk-toggleable__control:checked~label.sk-toggleable__label-arrow:before {content: \"▾\";}#sk-container-id-4 div.sk-estimator input.sk-toggleable__control:checked~label.sk-toggleable__label {background-color: #d4ebff;}#sk-container-id-4 div.sk-label input.sk-toggleable__control:checked~label.sk-toggleable__label {background-color: #d4ebff;}#sk-container-id-4 input.sk-hidden--visually {border: 0;clip: rect(1px 1px 1px 1px);clip: rect(1px, 1px, 1px, 1px);height: 1px;margin: -1px;overflow: hidden;padding: 0;position: absolute;width: 1px;}#sk-container-id-4 div.sk-estimator {font-family: monospace;background-color: #f0f8ff;border: 1px dotted black;border-radius: 0.25em;box-sizing: border-box;margin-bottom: 0.5em;}#sk-container-id-4 div.sk-estimator:hover {background-color: #d4ebff;}#sk-container-id-4 div.sk-parallel-item::after {content: \"\";width: 100%;border-bottom: 1px solid gray;flex-grow: 1;}#sk-container-id-4 div.sk-label:hover label.sk-toggleable__label {background-color: #d4ebff;}#sk-container-id-4 div.sk-serial::before {content: \"\";position: absolute;border-left: 1px solid gray;box-sizing: border-box;top: 0;bottom: 0;left: 50%;z-index: 0;}#sk-container-id-4 div.sk-serial {display: flex;flex-direction: column;align-items: center;background-color: white;padding-right: 0.2em;padding-left: 0.2em;position: relative;}#sk-container-id-4 div.sk-item {position: relative;z-index: 1;}#sk-container-id-4 div.sk-parallel {display: flex;align-items: stretch;justify-content: center;background-color: white;position: relative;}#sk-container-id-4 div.sk-item::before, #sk-container-id-4 div.sk-parallel-item::before {content: \"\";position: absolute;border-left: 1px solid gray;box-sizing: border-box;top: 0;bottom: 0;left: 50%;z-index: -1;}#sk-container-id-4 div.sk-parallel-item {display: flex;flex-direction: column;z-index: 1;position: relative;background-color: white;}#sk-container-id-4 div.sk-parallel-item:first-child::after {align-self: flex-end;width: 50%;}#sk-container-id-4 div.sk-parallel-item:last-child::after {align-self: flex-start;width: 50%;}#sk-container-id-4 div.sk-parallel-item:only-child::after {width: 0;}#sk-container-id-4 div.sk-dashed-wrapped {border: 1px dashed gray;margin: 0 0.4em 0.5em 0.4em;box-sizing: border-box;padding-bottom: 0.4em;background-color: white;}#sk-container-id-4 div.sk-label label {font-family: monospace;font-weight: bold;display: inline-block;line-height: 1.2em;}#sk-container-id-4 div.sk-label-container {text-align: center;}#sk-container-id-4 div.sk-container {/* jupyter's `normalize.less` sets `[hidden] { display: none; }` but bootstrap.min.css set `[hidden] { display: none !important; }` so we also need the `!important` here to be able to override the default hidden behavior on the sphinx rendered scikit-learn.org. See: https://github.com/scikit-learn/scikit-learn/issues/21755 */display: inline-block !important;position: relative;}#sk-container-id-4 div.sk-text-repr-fallback {display: none;}</style><div id=\"sk-container-id-4\" class=\"sk-top-container\"><div class=\"sk-text-repr-fallback\"><pre>DecisionTreeRegressor()</pre><b>In a Jupyter environment, please rerun this cell to show the HTML representation or trust the notebook. <br />On GitHub, the HTML representation is unable to render, please try loading this page with nbviewer.org.</b></div><div class=\"sk-container\" hidden><div class=\"sk-item\"><div class=\"sk-estimator sk-toggleable\"><input class=\"sk-toggleable__control sk-hidden--visually\" id=\"sk-estimator-id-4\" type=\"checkbox\" checked><label for=\"sk-estimator-id-4\" class=\"sk-toggleable__label sk-toggleable__label-arrow\">DecisionTreeRegressor</label><div class=\"sk-toggleable__content\"><pre>DecisionTreeRegressor()</pre></div></div></div></div></div>"
            ]
          },
          "metadata": {},
          "execution_count": 19
        }
      ]
    },
    {
      "cell_type": "markdown",
      "source": [
        "###Predicting"
      ],
      "metadata": {
        "id": "Yoe6p_2DWvxN"
      }
    },
    {
      "cell_type": "code",
      "source": [
        "y_tree = tree_regressor.predict(X_test)\n",
        "np.set_printoptions(precision=2)\n",
        "print(np.concatenate((y_tree.reshape(len(y_tree),1), y_test.reshape(len(y_test),1)),1))"
      ],
      "metadata": {
        "id": "H1q3fBuYWycA",
        "colab": {
          "base_uri": "https://localhost:8080/"
        },
        "outputId": "eafa9951-5b1b-493b-91b6-b97f0cc568dc"
      },
      "execution_count": 20,
      "outputs": [
        {
          "output_type": "stream",
          "name": "stdout",
          "text": [
            "[[49.1  49.1 ]\n",
            " [65.   69.8 ]\n",
            " [61.   61.  ]\n",
            " ...\n",
            " [67.6  62.9 ]\n",
            " [68.55 65.2 ]\n",
            " [45.2  45.2 ]]\n"
          ]
        }
      ]
    },
    {
      "cell_type": "markdown",
      "source": [
        "### Testing accuracy"
      ],
      "metadata": {
        "id": "C-okU6qQXJSB"
      }
    },
    {
      "cell_type": "code",
      "source": [
        "mape = mean_absolute_percentage_error(y_test, y_tree)\n",
        "\n",
        "print(f\"Mean Absolute Percentage Error (MAPE): {mape:.2f}%\")\n",
        "#print(tree_regressor.predict([[1, 0, 0, 1 ,0 ,0 , 0,0 ,1 , 300]]))\n",
        "\n",
        "from sklearn.metrics import r2_score\n",
        "\n",
        "# Assuming y_test contains the actual target values and y_pred contains the predicted values\n",
        "# Calculate R squared\n",
        "r2 = r2_score(y_test, y_tree)\n",
        "# Calculate adjusted R squared\n",
        "n = len(y_test)  # Number of samples\n",
        "p = X.shape[1]   # Number of predictors (features) in your model\n",
        "adj_r2 = 1 - (1 - r2) * (n - 1) / (n - p - 1)\n",
        "\n",
        "# Print R-squared and adjusted R-squared\n",
        "print(f\"R squared (r2): {r2:.4f}\")\n",
        "print(f\"Adjusted R squared (adj_r2): {adj_r2:.4f}\")"
      ],
      "metadata": {
        "id": "Ndk81cBtXMIk",
        "colab": {
          "base_uri": "https://localhost:8080/"
        },
        "outputId": "2b28dec9-c7f9-4cf3-840f-a68497eaec6f"
      },
      "execution_count": 21,
      "outputs": [
        {
          "output_type": "stream",
          "name": "stdout",
          "text": [
            "Mean Absolute Percentage Error (MAPE): 3.90%\n",
            "R squared (r2): 0.8991\n",
            "Adjusted R squared (adj_r2): 0.8965\n"
          ]
        }
      ]
    },
    {
      "cell_type": "markdown",
      "source": [
        "## Random Forest"
      ],
      "metadata": {
        "id": "0iNjAa2lQO7a"
      }
    },
    {
      "cell_type": "markdown",
      "source": [
        "### Training the Random Forest model on the Training set"
      ],
      "metadata": {
        "id": "g92OdZP_QuCZ"
      }
    },
    {
      "cell_type": "code",
      "source": [
        "from sklearn.ensemble import RandomForestRegressor\n",
        "forest_regressor = RandomForestRegressor(n_estimators = 100)\n",
        "forest_regressor.fit(X_train, y_train)"
      ],
      "metadata": {
        "id": "NF2fJZ1-QyAF",
        "colab": {
          "base_uri": "https://localhost:8080/",
          "height": 0
        },
        "outputId": "3bf51434-b4a7-4cca-d50f-e205740b45ef"
      },
      "execution_count": 22,
      "outputs": [
        {
          "output_type": "execute_result",
          "data": {
            "text/plain": [
              "RandomForestRegressor()"
            ],
            "text/html": [
              "<style>#sk-container-id-5 {color: black;background-color: white;}#sk-container-id-5 pre{padding: 0;}#sk-container-id-5 div.sk-toggleable {background-color: white;}#sk-container-id-5 label.sk-toggleable__label {cursor: pointer;display: block;width: 100%;margin-bottom: 0;padding: 0.3em;box-sizing: border-box;text-align: center;}#sk-container-id-5 label.sk-toggleable__label-arrow:before {content: \"▸\";float: left;margin-right: 0.25em;color: #696969;}#sk-container-id-5 label.sk-toggleable__label-arrow:hover:before {color: black;}#sk-container-id-5 div.sk-estimator:hover label.sk-toggleable__label-arrow:before {color: black;}#sk-container-id-5 div.sk-toggleable__content {max-height: 0;max-width: 0;overflow: hidden;text-align: left;background-color: #f0f8ff;}#sk-container-id-5 div.sk-toggleable__content pre {margin: 0.2em;color: black;border-radius: 0.25em;background-color: #f0f8ff;}#sk-container-id-5 input.sk-toggleable__control:checked~div.sk-toggleable__content {max-height: 200px;max-width: 100%;overflow: auto;}#sk-container-id-5 input.sk-toggleable__control:checked~label.sk-toggleable__label-arrow:before {content: \"▾\";}#sk-container-id-5 div.sk-estimator input.sk-toggleable__control:checked~label.sk-toggleable__label {background-color: #d4ebff;}#sk-container-id-5 div.sk-label input.sk-toggleable__control:checked~label.sk-toggleable__label {background-color: #d4ebff;}#sk-container-id-5 input.sk-hidden--visually {border: 0;clip: rect(1px 1px 1px 1px);clip: rect(1px, 1px, 1px, 1px);height: 1px;margin: -1px;overflow: hidden;padding: 0;position: absolute;width: 1px;}#sk-container-id-5 div.sk-estimator {font-family: monospace;background-color: #f0f8ff;border: 1px dotted black;border-radius: 0.25em;box-sizing: border-box;margin-bottom: 0.5em;}#sk-container-id-5 div.sk-estimator:hover {background-color: #d4ebff;}#sk-container-id-5 div.sk-parallel-item::after {content: \"\";width: 100%;border-bottom: 1px solid gray;flex-grow: 1;}#sk-container-id-5 div.sk-label:hover label.sk-toggleable__label {background-color: #d4ebff;}#sk-container-id-5 div.sk-serial::before {content: \"\";position: absolute;border-left: 1px solid gray;box-sizing: border-box;top: 0;bottom: 0;left: 50%;z-index: 0;}#sk-container-id-5 div.sk-serial {display: flex;flex-direction: column;align-items: center;background-color: white;padding-right: 0.2em;padding-left: 0.2em;position: relative;}#sk-container-id-5 div.sk-item {position: relative;z-index: 1;}#sk-container-id-5 div.sk-parallel {display: flex;align-items: stretch;justify-content: center;background-color: white;position: relative;}#sk-container-id-5 div.sk-item::before, #sk-container-id-5 div.sk-parallel-item::before {content: \"\";position: absolute;border-left: 1px solid gray;box-sizing: border-box;top: 0;bottom: 0;left: 50%;z-index: -1;}#sk-container-id-5 div.sk-parallel-item {display: flex;flex-direction: column;z-index: 1;position: relative;background-color: white;}#sk-container-id-5 div.sk-parallel-item:first-child::after {align-self: flex-end;width: 50%;}#sk-container-id-5 div.sk-parallel-item:last-child::after {align-self: flex-start;width: 50%;}#sk-container-id-5 div.sk-parallel-item:only-child::after {width: 0;}#sk-container-id-5 div.sk-dashed-wrapped {border: 1px dashed gray;margin: 0 0.4em 0.5em 0.4em;box-sizing: border-box;padding-bottom: 0.4em;background-color: white;}#sk-container-id-5 div.sk-label label {font-family: monospace;font-weight: bold;display: inline-block;line-height: 1.2em;}#sk-container-id-5 div.sk-label-container {text-align: center;}#sk-container-id-5 div.sk-container {/* jupyter's `normalize.less` sets `[hidden] { display: none; }` but bootstrap.min.css set `[hidden] { display: none !important; }` so we also need the `!important` here to be able to override the default hidden behavior on the sphinx rendered scikit-learn.org. See: https://github.com/scikit-learn/scikit-learn/issues/21755 */display: inline-block !important;position: relative;}#sk-container-id-5 div.sk-text-repr-fallback {display: none;}</style><div id=\"sk-container-id-5\" class=\"sk-top-container\"><div class=\"sk-text-repr-fallback\"><pre>RandomForestRegressor()</pre><b>In a Jupyter environment, please rerun this cell to show the HTML representation or trust the notebook. <br />On GitHub, the HTML representation is unable to render, please try loading this page with nbviewer.org.</b></div><div class=\"sk-container\" hidden><div class=\"sk-item\"><div class=\"sk-estimator sk-toggleable\"><input class=\"sk-toggleable__control sk-hidden--visually\" id=\"sk-estimator-id-5\" type=\"checkbox\" checked><label for=\"sk-estimator-id-5\" class=\"sk-toggleable__label sk-toggleable__label-arrow\">RandomForestRegressor</label><div class=\"sk-toggleable__content\"><pre>RandomForestRegressor()</pre></div></div></div></div></div>"
            ]
          },
          "metadata": {},
          "execution_count": 22
        }
      ]
    },
    {
      "cell_type": "markdown",
      "source": [
        "### Predicting"
      ],
      "metadata": {
        "id": "n1TEruD4Ue-Z"
      }
    },
    {
      "cell_type": "code",
      "source": [
        "y_forest = forest_regressor.predict(X_test)\n",
        "np.set_printoptions(precision=2)\n",
        "print(np.concatenate((y_forest.reshape(len(y_forest),1), y_test.reshape(len(y_test),1)),1))"
      ],
      "metadata": {
        "id": "wqqSjW0LUib3",
        "colab": {
          "base_uri": "https://localhost:8080/"
        },
        "outputId": "1588452e-258a-47ca-b28b-955fd4acc304"
      },
      "execution_count": 23,
      "outputs": [
        {
          "output_type": "stream",
          "name": "stdout",
          "text": [
            "[[47.27 49.1 ]\n",
            " [66.5  69.8 ]\n",
            " [59.66 61.  ]\n",
            " ...\n",
            " [64.71 62.9 ]\n",
            " [67.1  65.2 ]\n",
            " [49.09 45.2 ]]\n"
          ]
        }
      ]
    },
    {
      "cell_type": "markdown",
      "source": [
        "### Testing accuracy"
      ],
      "metadata": {
        "id": "fqCJ0Z0FU8P6"
      }
    },
    {
      "cell_type": "code",
      "source": [
        "\n",
        "#print(tree_regressor.predict([[1, 0, 0, 1 ,0 ,0 , 0,0 ,1 , 300 , 2 , 2624 , 13000 ]]))\n",
        "\n",
        "from sklearn.metrics import r2_score\n",
        "\n",
        "# Assuming y_test contains the actual target values and y_pred contains the predicted values\n",
        "# Calculate R squared\n",
        "r2 = r2_score(y_test, y_forest)\n",
        "# Calculate adjusted R squared\n",
        "n = len(y_test)  # Number of samples\n",
        "p = X.shape[1]   # Number of predictors (features) in your model\n",
        "adj_r2 = 1 - (1 - r2) * (n - 1) / (n - p - 1)\n",
        "\n",
        "# Print R-squared and adjusted R-squared\n",
        "print(f\"R squared (r2): {r2:.4f}\")\n",
        "print(f\"Adjusted R squared (adj_r2): {adj_r2:.4f}\")"
      ],
      "metadata": {
        "id": "aPLikzYjnEPz",
        "colab": {
          "base_uri": "https://localhost:8080/"
        },
        "outputId": "56aeb3da-8768-401f-bb6f-a1a933c20958"
      },
      "execution_count": 24,
      "outputs": [
        {
          "output_type": "stream",
          "name": "stdout",
          "text": [
            "R squared (r2): 0.9279\n",
            "Adjusted R squared (adj_r2): 0.9261\n"
          ]
        }
      ]
    },
    {
      "cell_type": "markdown",
      "source": [
        "##XGBoost Model"
      ],
      "metadata": {
        "id": "QIVyYlqK-QCk"
      }
    },
    {
      "cell_type": "code",
      "source": [
        "from xgboost import XGBRegressor\n",
        "XGB_regressor = XGBRegressor()\n",
        "XGB_regressor.fit(X_train, y_train)"
      ],
      "metadata": {
        "colab": {
          "base_uri": "https://localhost:8080/",
          "height": 248
        },
        "id": "RxtAwUX6-WEo",
        "outputId": "1efb2390-9147-49af-c567-60bd152037f4"
      },
      "execution_count": 25,
      "outputs": [
        {
          "output_type": "execute_result",
          "data": {
            "text/plain": [
              "XGBRegressor(base_score=None, booster=None, callbacks=None,\n",
              "             colsample_bylevel=None, colsample_bynode=None,\n",
              "             colsample_bytree=None, device=None, early_stopping_rounds=None,\n",
              "             enable_categorical=False, eval_metric=None, feature_types=None,\n",
              "             gamma=None, grow_policy=None, importance_type=None,\n",
              "             interaction_constraints=None, learning_rate=None, max_bin=None,\n",
              "             max_cat_threshold=None, max_cat_to_onehot=None,\n",
              "             max_delta_step=None, max_depth=None, max_leaves=None,\n",
              "             min_child_weight=None, missing=nan, monotone_constraints=None,\n",
              "             multi_strategy=None, n_estimators=None, n_jobs=None,\n",
              "             num_parallel_tree=None, random_state=None, ...)"
            ],
            "text/html": [
              "<style>#sk-container-id-6 {color: black;background-color: white;}#sk-container-id-6 pre{padding: 0;}#sk-container-id-6 div.sk-toggleable {background-color: white;}#sk-container-id-6 label.sk-toggleable__label {cursor: pointer;display: block;width: 100%;margin-bottom: 0;padding: 0.3em;box-sizing: border-box;text-align: center;}#sk-container-id-6 label.sk-toggleable__label-arrow:before {content: \"▸\";float: left;margin-right: 0.25em;color: #696969;}#sk-container-id-6 label.sk-toggleable__label-arrow:hover:before {color: black;}#sk-container-id-6 div.sk-estimator:hover label.sk-toggleable__label-arrow:before {color: black;}#sk-container-id-6 div.sk-toggleable__content {max-height: 0;max-width: 0;overflow: hidden;text-align: left;background-color: #f0f8ff;}#sk-container-id-6 div.sk-toggleable__content pre {margin: 0.2em;color: black;border-radius: 0.25em;background-color: #f0f8ff;}#sk-container-id-6 input.sk-toggleable__control:checked~div.sk-toggleable__content {max-height: 200px;max-width: 100%;overflow: auto;}#sk-container-id-6 input.sk-toggleable__control:checked~label.sk-toggleable__label-arrow:before {content: \"▾\";}#sk-container-id-6 div.sk-estimator input.sk-toggleable__control:checked~label.sk-toggleable__label {background-color: #d4ebff;}#sk-container-id-6 div.sk-label input.sk-toggleable__control:checked~label.sk-toggleable__label {background-color: #d4ebff;}#sk-container-id-6 input.sk-hidden--visually {border: 0;clip: rect(1px 1px 1px 1px);clip: rect(1px, 1px, 1px, 1px);height: 1px;margin: -1px;overflow: hidden;padding: 0;position: absolute;width: 1px;}#sk-container-id-6 div.sk-estimator {font-family: monospace;background-color: #f0f8ff;border: 1px dotted black;border-radius: 0.25em;box-sizing: border-box;margin-bottom: 0.5em;}#sk-container-id-6 div.sk-estimator:hover {background-color: #d4ebff;}#sk-container-id-6 div.sk-parallel-item::after {content: \"\";width: 100%;border-bottom: 1px solid gray;flex-grow: 1;}#sk-container-id-6 div.sk-label:hover label.sk-toggleable__label {background-color: #d4ebff;}#sk-container-id-6 div.sk-serial::before {content: \"\";position: absolute;border-left: 1px solid gray;box-sizing: border-box;top: 0;bottom: 0;left: 50%;z-index: 0;}#sk-container-id-6 div.sk-serial {display: flex;flex-direction: column;align-items: center;background-color: white;padding-right: 0.2em;padding-left: 0.2em;position: relative;}#sk-container-id-6 div.sk-item {position: relative;z-index: 1;}#sk-container-id-6 div.sk-parallel {display: flex;align-items: stretch;justify-content: center;background-color: white;position: relative;}#sk-container-id-6 div.sk-item::before, #sk-container-id-6 div.sk-parallel-item::before {content: \"\";position: absolute;border-left: 1px solid gray;box-sizing: border-box;top: 0;bottom: 0;left: 50%;z-index: -1;}#sk-container-id-6 div.sk-parallel-item {display: flex;flex-direction: column;z-index: 1;position: relative;background-color: white;}#sk-container-id-6 div.sk-parallel-item:first-child::after {align-self: flex-end;width: 50%;}#sk-container-id-6 div.sk-parallel-item:last-child::after {align-self: flex-start;width: 50%;}#sk-container-id-6 div.sk-parallel-item:only-child::after {width: 0;}#sk-container-id-6 div.sk-dashed-wrapped {border: 1px dashed gray;margin: 0 0.4em 0.5em 0.4em;box-sizing: border-box;padding-bottom: 0.4em;background-color: white;}#sk-container-id-6 div.sk-label label {font-family: monospace;font-weight: bold;display: inline-block;line-height: 1.2em;}#sk-container-id-6 div.sk-label-container {text-align: center;}#sk-container-id-6 div.sk-container {/* jupyter's `normalize.less` sets `[hidden] { display: none; }` but bootstrap.min.css set `[hidden] { display: none !important; }` so we also need the `!important` here to be able to override the default hidden behavior on the sphinx rendered scikit-learn.org. See: https://github.com/scikit-learn/scikit-learn/issues/21755 */display: inline-block !important;position: relative;}#sk-container-id-6 div.sk-text-repr-fallback {display: none;}</style><div id=\"sk-container-id-6\" class=\"sk-top-container\"><div class=\"sk-text-repr-fallback\"><pre>XGBRegressor(base_score=None, booster=None, callbacks=None,\n",
              "             colsample_bylevel=None, colsample_bynode=None,\n",
              "             colsample_bytree=None, device=None, early_stopping_rounds=None,\n",
              "             enable_categorical=False, eval_metric=None, feature_types=None,\n",
              "             gamma=None, grow_policy=None, importance_type=None,\n",
              "             interaction_constraints=None, learning_rate=None, max_bin=None,\n",
              "             max_cat_threshold=None, max_cat_to_onehot=None,\n",
              "             max_delta_step=None, max_depth=None, max_leaves=None,\n",
              "             min_child_weight=None, missing=nan, monotone_constraints=None,\n",
              "             multi_strategy=None, n_estimators=None, n_jobs=None,\n",
              "             num_parallel_tree=None, random_state=None, ...)</pre><b>In a Jupyter environment, please rerun this cell to show the HTML representation or trust the notebook. <br />On GitHub, the HTML representation is unable to render, please try loading this page with nbviewer.org.</b></div><div class=\"sk-container\" hidden><div class=\"sk-item\"><div class=\"sk-estimator sk-toggleable\"><input class=\"sk-toggleable__control sk-hidden--visually\" id=\"sk-estimator-id-6\" type=\"checkbox\" checked><label for=\"sk-estimator-id-6\" class=\"sk-toggleable__label sk-toggleable__label-arrow\">XGBRegressor</label><div class=\"sk-toggleable__content\"><pre>XGBRegressor(base_score=None, booster=None, callbacks=None,\n",
              "             colsample_bylevel=None, colsample_bynode=None,\n",
              "             colsample_bytree=None, device=None, early_stopping_rounds=None,\n",
              "             enable_categorical=False, eval_metric=None, feature_types=None,\n",
              "             gamma=None, grow_policy=None, importance_type=None,\n",
              "             interaction_constraints=None, learning_rate=None, max_bin=None,\n",
              "             max_cat_threshold=None, max_cat_to_onehot=None,\n",
              "             max_delta_step=None, max_depth=None, max_leaves=None,\n",
              "             min_child_weight=None, missing=nan, monotone_constraints=None,\n",
              "             multi_strategy=None, n_estimators=None, n_jobs=None,\n",
              "             num_parallel_tree=None, random_state=None, ...)</pre></div></div></div></div></div>"
            ]
          },
          "metadata": {},
          "execution_count": 25
        }
      ]
    },
    {
      "cell_type": "markdown",
      "source": [],
      "metadata": {
        "id": "GVgftOyd-e8k"
      }
    },
    {
      "cell_type": "code",
      "source": [
        "y_XGB = XGB_regressor.predict(X_test)\n",
        "np.set_printoptions(precision=2)\n",
        "print(np.concatenate((y_XGB.reshape(len(y_XGB),1), y_test.reshape(len(y_test),1)),1))"
      ],
      "metadata": {
        "colab": {
          "base_uri": "https://localhost:8080/"
        },
        "id": "1jJGjzna-iPf",
        "outputId": "d6569eb7-b716-4bad-83b5-3c11d626d146"
      },
      "execution_count": 26,
      "outputs": [
        {
          "output_type": "stream",
          "name": "stdout",
          "text": [
            "[[48.99 49.1 ]\n",
            " [68.02 69.8 ]\n",
            " [60.09 61.  ]\n",
            " ...\n",
            " [64.2  62.9 ]\n",
            " [67.1  65.2 ]\n",
            " [47.43 45.2 ]]\n"
          ]
        }
      ]
    },
    {
      "cell_type": "markdown",
      "source": [],
      "metadata": {
        "id": "puR7eau0-whE"
      }
    },
    {
      "cell_type": "code",
      "source": [
        "r2 = r2_score(y_test, y_XGB)\n",
        "\n",
        "# Calculate adjusted R squared\n",
        "n = len(y_test)  # Number of samples\n",
        "p = X.shape[1]   # Number of predictors (features) in your model\n",
        "adj_r2 = 1 - (1 - r2) * (n - 1) / (n - p - 1)\n",
        "\n",
        "# Print R-squared and adjusted R-squared\n",
        "print(f\"R squared (r2): {r2:.4f}\")\n",
        "print(f\"Adjusted R squared (adj_r2): {adj_r2:.4f}\")"
      ],
      "metadata": {
        "colab": {
          "base_uri": "https://localhost:8080/"
        },
        "id": "lVGrNMWx-wwg",
        "outputId": "84de7665-0623-4121-cdb9-538bc13fdf6d"
      },
      "execution_count": 27,
      "outputs": [
        {
          "output_type": "stream",
          "name": "stdout",
          "text": [
            "R squared (r2): 0.9742\n",
            "Adjusted R squared (adj_r2): 0.9735\n"
          ]
        }
      ]
    },
    {
      "cell_type": "markdown",
      "source": [
        "##catboost Model"
      ],
      "metadata": {
        "id": "zfDuzeNTAwDC"
      }
    },
    {
      "cell_type": "code",
      "source": [
        "!pip install catboost\n",
        "\n",
        "from catboost import CatBoostRegressor\n",
        "\n",
        "cat_regressor = CatBoostRegressor()\n",
        "cat_regressor.fit(X_train, y_train)"
      ],
      "metadata": {
        "id": "OV1BQGWSAwDK",
        "colab": {
          "base_uri": "https://localhost:8080/"
        },
        "outputId": "48171277-50a4-4cee-97ed-c88bfcb38f26"
      },
      "execution_count": 28,
      "outputs": [
        {
          "output_type": "stream",
          "name": "stdout",
          "text": [
            "Requirement already satisfied: catboost in /usr/local/lib/python3.10/dist-packages (1.2.3)\n",
            "Requirement already satisfied: graphviz in /usr/local/lib/python3.10/dist-packages (from catboost) (0.20.3)\n",
            "Requirement already satisfied: matplotlib in /usr/local/lib/python3.10/dist-packages (from catboost) (3.7.1)\n",
            "Requirement already satisfied: numpy>=1.16.0 in /usr/local/lib/python3.10/dist-packages (from catboost) (1.25.2)\n",
            "Requirement already satisfied: pandas>=0.24 in /usr/local/lib/python3.10/dist-packages (from catboost) (2.0.3)\n",
            "Requirement already satisfied: scipy in /usr/local/lib/python3.10/dist-packages (from catboost) (1.11.4)\n",
            "Requirement already satisfied: plotly in /usr/local/lib/python3.10/dist-packages (from catboost) (5.15.0)\n",
            "Requirement already satisfied: six in /usr/local/lib/python3.10/dist-packages (from catboost) (1.16.0)\n",
            "Requirement already satisfied: python-dateutil>=2.8.2 in /usr/local/lib/python3.10/dist-packages (from pandas>=0.24->catboost) (2.8.2)\n",
            "Requirement already satisfied: pytz>=2020.1 in /usr/local/lib/python3.10/dist-packages (from pandas>=0.24->catboost) (2023.4)\n",
            "Requirement already satisfied: tzdata>=2022.1 in /usr/local/lib/python3.10/dist-packages (from pandas>=0.24->catboost) (2024.1)\n",
            "Requirement already satisfied: contourpy>=1.0.1 in /usr/local/lib/python3.10/dist-packages (from matplotlib->catboost) (1.2.1)\n",
            "Requirement already satisfied: cycler>=0.10 in /usr/local/lib/python3.10/dist-packages (from matplotlib->catboost) (0.12.1)\n",
            "Requirement already satisfied: fonttools>=4.22.0 in /usr/local/lib/python3.10/dist-packages (from matplotlib->catboost) (4.51.0)\n",
            "Requirement already satisfied: kiwisolver>=1.0.1 in /usr/local/lib/python3.10/dist-packages (from matplotlib->catboost) (1.4.5)\n",
            "Requirement already satisfied: packaging>=20.0 in /usr/local/lib/python3.10/dist-packages (from matplotlib->catboost) (24.0)\n",
            "Requirement already satisfied: pillow>=6.2.0 in /usr/local/lib/python3.10/dist-packages (from matplotlib->catboost) (9.4.0)\n",
            "Requirement already satisfied: pyparsing>=2.3.1 in /usr/local/lib/python3.10/dist-packages (from matplotlib->catboost) (3.1.2)\n",
            "Requirement already satisfied: tenacity>=6.2.0 in /usr/local/lib/python3.10/dist-packages (from plotly->catboost) (8.2.3)\n",
            "Learning rate set to 0.046441\n",
            "0:\tlearn: 11.2281766\ttotal: 51.4ms\tremaining: 51.4s\n",
            "1:\tlearn: 10.9064014\ttotal: 52.8ms\tremaining: 26.4s\n",
            "2:\tlearn: 10.6101377\ttotal: 56.2ms\tremaining: 18.7s\n",
            "3:\tlearn: 10.3388352\ttotal: 60.7ms\tremaining: 15.1s\n",
            "4:\tlearn: 10.0897081\ttotal: 63.6ms\tremaining: 12.7s\n",
            "5:\tlearn: 9.8632030\ttotal: 66.4ms\tremaining: 11s\n",
            "6:\tlearn: 9.6230185\ttotal: 70.2ms\tremaining: 9.96s\n",
            "7:\tlearn: 9.3999160\ttotal: 73.4ms\tremaining: 9.1s\n",
            "8:\tlearn: 9.1758732\ttotal: 90.6ms\tremaining: 9.97s\n",
            "9:\tlearn: 8.9826153\ttotal: 98.5ms\tremaining: 9.75s\n",
            "10:\tlearn: 8.7865375\ttotal: 99.5ms\tremaining: 8.94s\n",
            "11:\tlearn: 8.6107831\ttotal: 101ms\tremaining: 8.3s\n",
            "12:\tlearn: 8.4436873\ttotal: 102ms\tremaining: 7.74s\n",
            "13:\tlearn: 8.2964351\ttotal: 103ms\tremaining: 7.25s\n",
            "14:\tlearn: 8.1543896\ttotal: 104ms\tremaining: 6.84s\n",
            "15:\tlearn: 8.0136235\ttotal: 105ms\tremaining: 6.48s\n",
            "16:\tlearn: 7.8904582\ttotal: 107ms\tremaining: 6.17s\n",
            "17:\tlearn: 7.7645803\ttotal: 108ms\tremaining: 5.89s\n",
            "18:\tlearn: 7.6552607\ttotal: 116ms\tremaining: 5.97s\n",
            "19:\tlearn: 7.5480463\ttotal: 117ms\tremaining: 5.72s\n",
            "20:\tlearn: 7.4489533\ttotal: 118ms\tremaining: 5.48s\n",
            "21:\tlearn: 7.3510852\ttotal: 119ms\tremaining: 5.29s\n",
            "22:\tlearn: 7.2567958\ttotal: 120ms\tremaining: 5.12s\n",
            "23:\tlearn: 7.1686314\ttotal: 122ms\tremaining: 4.95s\n",
            "24:\tlearn: 7.0907003\ttotal: 123ms\tremaining: 4.79s\n",
            "25:\tlearn: 7.0122395\ttotal: 124ms\tremaining: 4.63s\n",
            "26:\tlearn: 6.9403240\ttotal: 125ms\tremaining: 4.5s\n",
            "27:\tlearn: 6.8822863\ttotal: 131ms\tremaining: 4.55s\n",
            "28:\tlearn: 6.8168705\ttotal: 132ms\tremaining: 4.42s\n",
            "29:\tlearn: 6.7496006\ttotal: 134ms\tremaining: 4.32s\n",
            "30:\tlearn: 6.6870156\ttotal: 135ms\tremaining: 4.22s\n",
            "31:\tlearn: 6.6268821\ttotal: 136ms\tremaining: 4.13s\n",
            "32:\tlearn: 6.5714379\ttotal: 144ms\tremaining: 4.22s\n",
            "33:\tlearn: 6.5140314\ttotal: 145ms\tremaining: 4.12s\n",
            "34:\tlearn: 6.4564503\ttotal: 147ms\tremaining: 4.05s\n",
            "35:\tlearn: 6.4030788\ttotal: 148ms\tremaining: 3.96s\n",
            "36:\tlearn: 6.3529936\ttotal: 149ms\tremaining: 3.87s\n",
            "37:\tlearn: 6.3051387\ttotal: 150ms\tremaining: 3.81s\n",
            "38:\tlearn: 6.2654158\ttotal: 152ms\tremaining: 3.74s\n",
            "39:\tlearn: 6.2186816\ttotal: 159ms\tremaining: 3.81s\n",
            "40:\tlearn: 6.1757295\ttotal: 163ms\tremaining: 3.82s\n",
            "41:\tlearn: 6.1328220\ttotal: 164ms\tremaining: 3.75s\n",
            "42:\tlearn: 6.1011950\ttotal: 168ms\tremaining: 3.74s\n",
            "43:\tlearn: 6.0592983\ttotal: 172ms\tremaining: 3.73s\n",
            "44:\tlearn: 6.0179304\ttotal: 173ms\tremaining: 3.67s\n",
            "45:\tlearn: 5.9700766\ttotal: 174ms\tremaining: 3.6s\n",
            "46:\tlearn: 5.9245033\ttotal: 175ms\tremaining: 3.54s\n",
            "47:\tlearn: 5.8922512\ttotal: 176ms\tremaining: 3.48s\n",
            "48:\tlearn: 5.8500579\ttotal: 177ms\tremaining: 3.43s\n",
            "49:\tlearn: 5.8203944\ttotal: 178ms\tremaining: 3.37s\n",
            "50:\tlearn: 5.7812037\ttotal: 179ms\tremaining: 3.33s\n",
            "51:\tlearn: 5.7566757\ttotal: 180ms\tremaining: 3.29s\n",
            "52:\tlearn: 5.7331719\ttotal: 186ms\tremaining: 3.33s\n",
            "53:\tlearn: 5.6953890\ttotal: 187ms\tremaining: 3.28s\n",
            "54:\tlearn: 5.6641336\ttotal: 188ms\tremaining: 3.23s\n",
            "55:\tlearn: 5.6427355\ttotal: 189ms\tremaining: 3.19s\n",
            "56:\tlearn: 5.6187814\ttotal: 190ms\tremaining: 3.15s\n",
            "57:\tlearn: 5.5946653\ttotal: 191ms\tremaining: 3.11s\n",
            "58:\tlearn: 5.5467040\ttotal: 192ms\tremaining: 3.07s\n",
            "59:\tlearn: 5.5198119\ttotal: 193ms\tremaining: 3.03s\n",
            "60:\tlearn: 5.4860653\ttotal: 194ms\tremaining: 2.99s\n",
            "61:\tlearn: 5.4606059\ttotal: 195ms\tremaining: 2.96s\n",
            "62:\tlearn: 5.4440145\ttotal: 196ms\tremaining: 2.92s\n",
            "63:\tlearn: 5.4266958\ttotal: 197ms\tremaining: 2.89s\n",
            "64:\tlearn: 5.4093038\ttotal: 198ms\tremaining: 2.85s\n",
            "65:\tlearn: 5.3942434\ttotal: 203ms\tremaining: 2.87s\n",
            "66:\tlearn: 5.3645207\ttotal: 204ms\tremaining: 2.85s\n",
            "67:\tlearn: 5.3376436\ttotal: 207ms\tremaining: 2.83s\n",
            "68:\tlearn: 5.3137836\ttotal: 209ms\tremaining: 2.82s\n",
            "69:\tlearn: 5.2874917\ttotal: 212ms\tremaining: 2.81s\n",
            "70:\tlearn: 5.2573895\ttotal: 214ms\tremaining: 2.8s\n",
            "71:\tlearn: 5.2421114\ttotal: 217ms\tremaining: 2.79s\n",
            "72:\tlearn: 5.2264081\ttotal: 219ms\tremaining: 2.79s\n",
            "73:\tlearn: 5.1996094\ttotal: 222ms\tremaining: 2.78s\n",
            "74:\tlearn: 5.1802677\ttotal: 225ms\tremaining: 2.77s\n",
            "75:\tlearn: 5.1606465\ttotal: 229ms\tremaining: 2.78s\n",
            "76:\tlearn: 5.1407084\ttotal: 234ms\tremaining: 2.81s\n",
            "77:\tlearn: 5.1150582\ttotal: 236ms\tremaining: 2.79s\n",
            "78:\tlearn: 5.0873723\ttotal: 239ms\tremaining: 2.79s\n",
            "79:\tlearn: 5.0751866\ttotal: 249ms\tremaining: 2.86s\n",
            "80:\tlearn: 5.0568141\ttotal: 250ms\tremaining: 2.84s\n",
            "81:\tlearn: 5.0372617\ttotal: 254ms\tremaining: 2.85s\n",
            "82:\tlearn: 5.0222131\ttotal: 256ms\tremaining: 2.83s\n",
            "83:\tlearn: 5.0072846\ttotal: 259ms\tremaining: 2.83s\n",
            "84:\tlearn: 4.9974500\ttotal: 263ms\tremaining: 2.83s\n",
            "85:\tlearn: 4.9774430\ttotal: 265ms\tremaining: 2.81s\n",
            "86:\tlearn: 4.9547224\ttotal: 268ms\tremaining: 2.81s\n",
            "87:\tlearn: 4.9405648\ttotal: 270ms\tremaining: 2.8s\n",
            "88:\tlearn: 4.9163274\ttotal: 273ms\tremaining: 2.79s\n",
            "89:\tlearn: 4.8988072\ttotal: 276ms\tremaining: 2.79s\n",
            "90:\tlearn: 4.8695934\ttotal: 279ms\tremaining: 2.78s\n",
            "91:\tlearn: 4.8526144\ttotal: 282ms\tremaining: 2.78s\n",
            "92:\tlearn: 4.8448241\ttotal: 285ms\tremaining: 2.77s\n",
            "93:\tlearn: 4.8227492\ttotal: 287ms\tremaining: 2.77s\n",
            "94:\tlearn: 4.8150117\ttotal: 294ms\tremaining: 2.8s\n",
            "95:\tlearn: 4.8059338\ttotal: 295ms\tremaining: 2.78s\n",
            "96:\tlearn: 4.7953464\ttotal: 297ms\tremaining: 2.77s\n",
            "97:\tlearn: 4.7805749\ttotal: 298ms\tremaining: 2.74s\n",
            "98:\tlearn: 4.7556672\ttotal: 299ms\tremaining: 2.72s\n",
            "99:\tlearn: 4.7297914\ttotal: 300ms\tremaining: 2.7s\n",
            "100:\tlearn: 4.7095472\ttotal: 301ms\tremaining: 2.68s\n",
            "101:\tlearn: 4.6883419\ttotal: 302ms\tremaining: 2.66s\n",
            "102:\tlearn: 4.6693719\ttotal: 304ms\tremaining: 2.65s\n",
            "103:\tlearn: 4.6626573\ttotal: 305ms\tremaining: 2.62s\n",
            "104:\tlearn: 4.6523787\ttotal: 305ms\tremaining: 2.6s\n",
            "105:\tlearn: 4.6430579\ttotal: 307ms\tremaining: 2.58s\n",
            "106:\tlearn: 4.6271283\ttotal: 308ms\tremaining: 2.57s\n",
            "107:\tlearn: 4.6094144\ttotal: 309ms\tremaining: 2.55s\n",
            "108:\tlearn: 4.5897054\ttotal: 310ms\tremaining: 2.53s\n",
            "109:\tlearn: 4.5753615\ttotal: 311ms\tremaining: 2.52s\n",
            "110:\tlearn: 4.5564842\ttotal: 312ms\tremaining: 2.5s\n",
            "111:\tlearn: 4.5446901\ttotal: 313ms\tremaining: 2.48s\n",
            "112:\tlearn: 4.5318245\ttotal: 314ms\tremaining: 2.47s\n",
            "113:\tlearn: 4.5137819\ttotal: 315ms\tremaining: 2.45s\n",
            "114:\tlearn: 4.4990383\ttotal: 316ms\tremaining: 2.43s\n",
            "115:\tlearn: 4.4760216\ttotal: 317ms\tremaining: 2.42s\n",
            "116:\tlearn: 4.4560528\ttotal: 318ms\tremaining: 2.4s\n",
            "117:\tlearn: 4.4444116\ttotal: 320ms\tremaining: 2.39s\n",
            "118:\tlearn: 4.4253873\ttotal: 321ms\tremaining: 2.37s\n",
            "119:\tlearn: 4.4042222\ttotal: 322ms\tremaining: 2.36s\n",
            "120:\tlearn: 4.3943092\ttotal: 323ms\tremaining: 2.35s\n",
            "121:\tlearn: 4.3882837\ttotal: 325ms\tremaining: 2.34s\n",
            "122:\tlearn: 4.3641625\ttotal: 326ms\tremaining: 2.32s\n",
            "123:\tlearn: 4.3559184\ttotal: 327ms\tremaining: 2.31s\n",
            "124:\tlearn: 4.3424196\ttotal: 330ms\tremaining: 2.31s\n",
            "125:\tlearn: 4.3359238\ttotal: 332ms\tremaining: 2.3s\n",
            "126:\tlearn: 4.3267552\ttotal: 333ms\tremaining: 2.29s\n",
            "127:\tlearn: 4.3123172\ttotal: 334ms\tremaining: 2.28s\n",
            "128:\tlearn: 4.3049447\ttotal: 335ms\tremaining: 2.26s\n",
            "129:\tlearn: 4.2884563\ttotal: 338ms\tremaining: 2.26s\n",
            "130:\tlearn: 4.2751386\ttotal: 344ms\tremaining: 2.28s\n",
            "131:\tlearn: 4.2590059\ttotal: 348ms\tremaining: 2.29s\n",
            "132:\tlearn: 4.2463015\ttotal: 349ms\tremaining: 2.27s\n",
            "133:\tlearn: 4.2356640\ttotal: 350ms\tremaining: 2.26s\n",
            "134:\tlearn: 4.2293518\ttotal: 356ms\tremaining: 2.28s\n",
            "135:\tlearn: 4.2148561\ttotal: 357ms\tremaining: 2.27s\n",
            "136:\tlearn: 4.2012510\ttotal: 364ms\tremaining: 2.29s\n",
            "137:\tlearn: 4.1928234\ttotal: 365ms\tremaining: 2.28s\n",
            "138:\tlearn: 4.1798693\ttotal: 366ms\tremaining: 2.27s\n",
            "139:\tlearn: 4.1758498\ttotal: 367ms\tremaining: 2.26s\n",
            "140:\tlearn: 4.1595790\ttotal: 369ms\tremaining: 2.25s\n",
            "141:\tlearn: 4.1420306\ttotal: 370ms\tremaining: 2.23s\n",
            "142:\tlearn: 4.1347782\ttotal: 376ms\tremaining: 2.25s\n",
            "143:\tlearn: 4.1253952\ttotal: 388ms\tremaining: 2.31s\n",
            "144:\tlearn: 4.1103727\ttotal: 389ms\tremaining: 2.29s\n",
            "145:\tlearn: 4.1049786\ttotal: 390ms\tremaining: 2.28s\n",
            "146:\tlearn: 4.0929011\ttotal: 398ms\tremaining: 2.31s\n",
            "147:\tlearn: 4.0808222\ttotal: 399ms\tremaining: 2.29s\n",
            "148:\tlearn: 4.0753073\ttotal: 400ms\tremaining: 2.29s\n",
            "149:\tlearn: 4.0611408\ttotal: 404ms\tremaining: 2.29s\n",
            "150:\tlearn: 4.0461688\ttotal: 406ms\tremaining: 2.28s\n",
            "151:\tlearn: 4.0340882\ttotal: 407ms\tremaining: 2.27s\n",
            "152:\tlearn: 4.0228046\ttotal: 411ms\tremaining: 2.27s\n",
            "153:\tlearn: 4.0190829\ttotal: 413ms\tremaining: 2.27s\n",
            "154:\tlearn: 4.0125916\ttotal: 426ms\tremaining: 2.32s\n",
            "155:\tlearn: 4.0070120\ttotal: 427ms\tremaining: 2.31s\n",
            "156:\tlearn: 3.9973748\ttotal: 428ms\tremaining: 2.3s\n",
            "157:\tlearn: 3.9911042\ttotal: 441ms\tremaining: 2.35s\n",
            "158:\tlearn: 3.9732431\ttotal: 442ms\tremaining: 2.34s\n",
            "159:\tlearn: 3.9552314\ttotal: 454ms\tremaining: 2.38s\n",
            "160:\tlearn: 3.9487678\ttotal: 456ms\tremaining: 2.37s\n",
            "161:\tlearn: 3.9399656\ttotal: 457ms\tremaining: 2.36s\n",
            "162:\tlearn: 3.9342687\ttotal: 458ms\tremaining: 2.35s\n",
            "163:\tlearn: 3.9282406\ttotal: 459ms\tremaining: 2.34s\n",
            "164:\tlearn: 3.9148039\ttotal: 461ms\tremaining: 2.33s\n",
            "165:\tlearn: 3.9079283\ttotal: 462ms\tremaining: 2.32s\n",
            "166:\tlearn: 3.8981259\ttotal: 463ms\tremaining: 2.31s\n",
            "167:\tlearn: 3.8839468\ttotal: 464ms\tremaining: 2.3s\n",
            "168:\tlearn: 3.8745912\ttotal: 469ms\tremaining: 2.31s\n",
            "169:\tlearn: 3.8669818\ttotal: 470ms\tremaining: 2.3s\n",
            "170:\tlearn: 3.8623699\ttotal: 471ms\tremaining: 2.28s\n",
            "171:\tlearn: 3.8504935\ttotal: 476ms\tremaining: 2.29s\n",
            "172:\tlearn: 3.8425956\ttotal: 477ms\tremaining: 2.28s\n",
            "173:\tlearn: 3.8322256\ttotal: 486ms\tremaining: 2.31s\n",
            "174:\tlearn: 3.8210267\ttotal: 487ms\tremaining: 2.29s\n",
            "175:\tlearn: 3.8139869\ttotal: 493ms\tremaining: 2.31s\n",
            "176:\tlearn: 3.7953936\ttotal: 494ms\tremaining: 2.3s\n",
            "177:\tlearn: 3.7863335\ttotal: 495ms\tremaining: 2.29s\n",
            "178:\tlearn: 3.7749067\ttotal: 500ms\tremaining: 2.29s\n",
            "179:\tlearn: 3.7630144\ttotal: 501ms\tremaining: 2.28s\n",
            "180:\tlearn: 3.7560587\ttotal: 510ms\tremaining: 2.31s\n",
            "181:\tlearn: 3.7417019\ttotal: 511ms\tremaining: 2.3s\n",
            "182:\tlearn: 3.7355230\ttotal: 512ms\tremaining: 2.29s\n",
            "183:\tlearn: 3.7310432\ttotal: 520ms\tremaining: 2.31s\n",
            "184:\tlearn: 3.7217717\ttotal: 522ms\tremaining: 2.3s\n",
            "185:\tlearn: 3.7049655\ttotal: 523ms\tremaining: 2.29s\n",
            "186:\tlearn: 3.6943830\ttotal: 541ms\tremaining: 2.35s\n",
            "187:\tlearn: 3.6841026\ttotal: 542ms\tremaining: 2.34s\n",
            "188:\tlearn: 3.6772916\ttotal: 545ms\tremaining: 2.34s\n",
            "189:\tlearn: 3.6724260\ttotal: 546ms\tremaining: 2.33s\n",
            "190:\tlearn: 3.6575043\ttotal: 547ms\tremaining: 2.32s\n",
            "191:\tlearn: 3.6389533\ttotal: 550ms\tremaining: 2.31s\n",
            "192:\tlearn: 3.6320075\ttotal: 551ms\tremaining: 2.3s\n",
            "193:\tlearn: 3.6210774\ttotal: 552ms\tremaining: 2.29s\n",
            "194:\tlearn: 3.6123043\ttotal: 553ms\tremaining: 2.28s\n",
            "195:\tlearn: 3.6013756\ttotal: 554ms\tremaining: 2.27s\n",
            "196:\tlearn: 3.5922441\ttotal: 555ms\tremaining: 2.26s\n",
            "197:\tlearn: 3.5859639\ttotal: 555ms\tremaining: 2.25s\n",
            "198:\tlearn: 3.5786320\ttotal: 566ms\tremaining: 2.28s\n",
            "199:\tlearn: 3.5754365\ttotal: 567ms\tremaining: 2.27s\n",
            "200:\tlearn: 3.5641853\ttotal: 567ms\tremaining: 2.25s\n",
            "201:\tlearn: 3.5569454\ttotal: 577ms\tremaining: 2.28s\n",
            "202:\tlearn: 3.5510489\ttotal: 578ms\tremaining: 2.27s\n",
            "203:\tlearn: 3.5462244\ttotal: 579ms\tremaining: 2.26s\n",
            "204:\tlearn: 3.5375689\ttotal: 590ms\tremaining: 2.29s\n",
            "205:\tlearn: 3.5314464\ttotal: 591ms\tremaining: 2.28s\n",
            "206:\tlearn: 3.5186487\ttotal: 592ms\tremaining: 2.27s\n",
            "207:\tlearn: 3.5101595\ttotal: 599ms\tremaining: 2.28s\n",
            "208:\tlearn: 3.4991177\ttotal: 602ms\tremaining: 2.28s\n",
            "209:\tlearn: 3.4948351\ttotal: 605ms\tremaining: 2.28s\n",
            "210:\tlearn: 3.4874181\ttotal: 611ms\tremaining: 2.28s\n",
            "211:\tlearn: 3.4804029\ttotal: 614ms\tremaining: 2.28s\n",
            "212:\tlearn: 3.4738990\ttotal: 617ms\tremaining: 2.28s\n",
            "213:\tlearn: 3.4709500\ttotal: 618ms\tremaining: 2.27s\n",
            "214:\tlearn: 3.4608141\ttotal: 623ms\tremaining: 2.27s\n",
            "215:\tlearn: 3.4579940\ttotal: 626ms\tremaining: 2.27s\n",
            "216:\tlearn: 3.4480713\ttotal: 635ms\tremaining: 2.29s\n",
            "217:\tlearn: 3.4353528\ttotal: 637ms\tremaining: 2.29s\n",
            "218:\tlearn: 3.4271575\ttotal: 639ms\tremaining: 2.28s\n",
            "219:\tlearn: 3.4163857\ttotal: 645ms\tremaining: 2.29s\n",
            "220:\tlearn: 3.4017005\ttotal: 655ms\tremaining: 2.31s\n",
            "221:\tlearn: 3.3937472\ttotal: 658ms\tremaining: 2.31s\n",
            "222:\tlearn: 3.3791039\ttotal: 659ms\tremaining: 2.3s\n",
            "223:\tlearn: 3.3677348\ttotal: 673ms\tremaining: 2.33s\n",
            "224:\tlearn: 3.3647352\ttotal: 677ms\tremaining: 2.33s\n",
            "225:\tlearn: 3.3576205\ttotal: 681ms\tremaining: 2.33s\n",
            "226:\tlearn: 3.3430062\ttotal: 689ms\tremaining: 2.35s\n",
            "227:\tlearn: 3.3349982\ttotal: 692ms\tremaining: 2.34s\n",
            "228:\tlearn: 3.3273080\ttotal: 709ms\tremaining: 2.39s\n",
            "229:\tlearn: 3.3217205\ttotal: 711ms\tremaining: 2.38s\n",
            "230:\tlearn: 3.3155061\ttotal: 712ms\tremaining: 2.37s\n",
            "231:\tlearn: 3.3080389\ttotal: 719ms\tremaining: 2.38s\n",
            "232:\tlearn: 3.3028512\ttotal: 723ms\tremaining: 2.38s\n",
            "233:\tlearn: 3.2903066\ttotal: 724ms\tremaining: 2.37s\n",
            "234:\tlearn: 3.2875965\ttotal: 731ms\tremaining: 2.38s\n",
            "235:\tlearn: 3.2808625\ttotal: 736ms\tremaining: 2.38s\n",
            "236:\tlearn: 3.2664522\ttotal: 743ms\tremaining: 2.39s\n",
            "237:\tlearn: 3.2602348\ttotal: 747ms\tremaining: 2.39s\n",
            "238:\tlearn: 3.2523902\ttotal: 754ms\tremaining: 2.4s\n",
            "239:\tlearn: 3.2453099\ttotal: 755ms\tremaining: 2.39s\n",
            "240:\tlearn: 3.2320678\ttotal: 764ms\tremaining: 2.41s\n",
            "241:\tlearn: 3.2200258\ttotal: 794ms\tremaining: 2.49s\n",
            "242:\tlearn: 3.2090366\ttotal: 795ms\tremaining: 2.48s\n",
            "243:\tlearn: 3.2064679\ttotal: 808ms\tremaining: 2.5s\n",
            "244:\tlearn: 3.2038862\ttotal: 813ms\tremaining: 2.51s\n",
            "245:\tlearn: 3.1982389\ttotal: 816ms\tremaining: 2.5s\n",
            "246:\tlearn: 3.1912259\ttotal: 821ms\tremaining: 2.5s\n",
            "247:\tlearn: 3.1746604\ttotal: 831ms\tremaining: 2.52s\n",
            "248:\tlearn: 3.1688430\ttotal: 832ms\tremaining: 2.51s\n",
            "249:\tlearn: 3.1545328\ttotal: 835ms\tremaining: 2.5s\n",
            "250:\tlearn: 3.1489264\ttotal: 838ms\tremaining: 2.5s\n",
            "251:\tlearn: 3.1455164\ttotal: 839ms\tremaining: 2.49s\n",
            "252:\tlearn: 3.1428295\ttotal: 848ms\tremaining: 2.5s\n",
            "253:\tlearn: 3.1373886\ttotal: 852ms\tremaining: 2.5s\n",
            "254:\tlearn: 3.1309192\ttotal: 856ms\tremaining: 2.5s\n",
            "255:\tlearn: 3.1208101\ttotal: 863ms\tremaining: 2.51s\n",
            "256:\tlearn: 3.1164667\ttotal: 865ms\tremaining: 2.5s\n",
            "257:\tlearn: 3.1077458\ttotal: 879ms\tremaining: 2.53s\n",
            "258:\tlearn: 3.1001996\ttotal: 885ms\tremaining: 2.53s\n",
            "259:\tlearn: 3.0930323\ttotal: 892ms\tremaining: 2.54s\n",
            "260:\tlearn: 3.0833390\ttotal: 894ms\tremaining: 2.53s\n",
            "261:\tlearn: 3.0810895\ttotal: 903ms\tremaining: 2.54s\n",
            "262:\tlearn: 3.0756138\ttotal: 904ms\tremaining: 2.53s\n",
            "263:\tlearn: 3.0704991\ttotal: 911ms\tremaining: 2.54s\n",
            "264:\tlearn: 3.0599991\ttotal: 920ms\tremaining: 2.55s\n",
            "265:\tlearn: 3.0547993\ttotal: 928ms\tremaining: 2.56s\n",
            "266:\tlearn: 3.0472328\ttotal: 932ms\tremaining: 2.56s\n",
            "267:\tlearn: 3.0381462\ttotal: 935ms\tremaining: 2.55s\n",
            "268:\tlearn: 3.0336564\ttotal: 937ms\tremaining: 2.54s\n",
            "269:\tlearn: 3.0290575\ttotal: 941ms\tremaining: 2.54s\n",
            "270:\tlearn: 3.0218211\ttotal: 945ms\tremaining: 2.54s\n",
            "271:\tlearn: 3.0102416\ttotal: 949ms\tremaining: 2.54s\n",
            "272:\tlearn: 3.0027946\ttotal: 952ms\tremaining: 2.53s\n",
            "273:\tlearn: 2.9970057\ttotal: 955ms\tremaining: 2.53s\n",
            "274:\tlearn: 2.9925352\ttotal: 957ms\tremaining: 2.52s\n",
            "275:\tlearn: 2.9892404\ttotal: 960ms\tremaining: 2.52s\n",
            "276:\tlearn: 2.9841623\ttotal: 963ms\tremaining: 2.51s\n",
            "277:\tlearn: 2.9793189\ttotal: 965ms\tremaining: 2.51s\n",
            "278:\tlearn: 2.9770869\ttotal: 970ms\tremaining: 2.51s\n",
            "279:\tlearn: 2.9747073\ttotal: 974ms\tremaining: 2.5s\n",
            "280:\tlearn: 2.9696376\ttotal: 979ms\tremaining: 2.5s\n",
            "281:\tlearn: 2.9626316\ttotal: 982ms\tremaining: 2.5s\n",
            "282:\tlearn: 2.9553155\ttotal: 985ms\tremaining: 2.5s\n",
            "283:\tlearn: 2.9452659\ttotal: 988ms\tremaining: 2.49s\n",
            "284:\tlearn: 2.9366996\ttotal: 991ms\tremaining: 2.48s\n",
            "285:\tlearn: 2.9315463\ttotal: 994ms\tremaining: 2.48s\n",
            "286:\tlearn: 2.9248213\ttotal: 996ms\tremaining: 2.48s\n",
            "287:\tlearn: 2.9187675\ttotal: 999ms\tremaining: 2.47s\n",
            "288:\tlearn: 2.9167601\ttotal: 1s\tremaining: 2.46s\n",
            "289:\tlearn: 2.9109898\ttotal: 1.01s\tremaining: 2.48s\n",
            "290:\tlearn: 2.9086427\ttotal: 1.01s\tremaining: 2.47s\n",
            "291:\tlearn: 2.9042039\ttotal: 1.02s\tremaining: 2.47s\n",
            "292:\tlearn: 2.8986287\ttotal: 1.02s\tremaining: 2.46s\n",
            "293:\tlearn: 2.8904674\ttotal: 1.02s\tremaining: 2.46s\n",
            "294:\tlearn: 2.8835652\ttotal: 1.02s\tremaining: 2.45s\n",
            "295:\tlearn: 2.8730746\ttotal: 1.03s\tremaining: 2.45s\n",
            "296:\tlearn: 2.8687450\ttotal: 1.03s\tremaining: 2.44s\n",
            "297:\tlearn: 2.8638170\ttotal: 1.03s\tremaining: 2.44s\n",
            "298:\tlearn: 2.8618638\ttotal: 1.04s\tremaining: 2.44s\n",
            "299:\tlearn: 2.8596830\ttotal: 1.04s\tremaining: 2.43s\n",
            "300:\tlearn: 2.8565554\ttotal: 1.04s\tremaining: 2.42s\n",
            "301:\tlearn: 2.8537108\ttotal: 1.05s\tremaining: 2.44s\n",
            "302:\tlearn: 2.8450898\ttotal: 1.06s\tremaining: 2.43s\n",
            "303:\tlearn: 2.8356947\ttotal: 1.06s\tremaining: 2.43s\n",
            "304:\tlearn: 2.8291249\ttotal: 1.06s\tremaining: 2.42s\n",
            "305:\tlearn: 2.8236509\ttotal: 1.07s\tremaining: 2.42s\n",
            "306:\tlearn: 2.8209877\ttotal: 1.07s\tremaining: 2.41s\n",
            "307:\tlearn: 2.8150516\ttotal: 1.07s\tremaining: 2.41s\n",
            "308:\tlearn: 2.8129276\ttotal: 1.07s\tremaining: 2.4s\n",
            "309:\tlearn: 2.8107036\ttotal: 1.08s\tremaining: 2.4s\n",
            "310:\tlearn: 2.8041598\ttotal: 1.08s\tremaining: 2.39s\n",
            "311:\tlearn: 2.7978324\ttotal: 1.08s\tremaining: 2.39s\n",
            "312:\tlearn: 2.7909553\ttotal: 1.09s\tremaining: 2.38s\n",
            "313:\tlearn: 2.7861142\ttotal: 1.09s\tremaining: 2.38s\n",
            "314:\tlearn: 2.7808355\ttotal: 1.09s\tremaining: 2.37s\n",
            "315:\tlearn: 2.7787998\ttotal: 1.09s\tremaining: 2.37s\n",
            "316:\tlearn: 2.7764113\ttotal: 1.1s\tremaining: 2.37s\n",
            "317:\tlearn: 2.7683805\ttotal: 1.1s\tremaining: 2.36s\n",
            "318:\tlearn: 2.7644674\ttotal: 1.1s\tremaining: 2.36s\n",
            "319:\tlearn: 2.7598955\ttotal: 1.11s\tremaining: 2.35s\n",
            "320:\tlearn: 2.7517163\ttotal: 1.11s\tremaining: 2.35s\n",
            "321:\tlearn: 2.7481709\ttotal: 1.11s\tremaining: 2.35s\n",
            "322:\tlearn: 2.7394912\ttotal: 1.12s\tremaining: 2.34s\n",
            "323:\tlearn: 2.7336952\ttotal: 1.12s\tremaining: 2.34s\n",
            "324:\tlearn: 2.7281667\ttotal: 1.12s\tremaining: 2.33s\n",
            "325:\tlearn: 2.7208527\ttotal: 1.13s\tremaining: 2.33s\n",
            "326:\tlearn: 2.7101399\ttotal: 1.13s\tremaining: 2.33s\n",
            "327:\tlearn: 2.7076915\ttotal: 1.14s\tremaining: 2.33s\n",
            "328:\tlearn: 2.6997846\ttotal: 1.14s\tremaining: 2.33s\n",
            "329:\tlearn: 2.6959758\ttotal: 1.14s\tremaining: 2.32s\n",
            "330:\tlearn: 2.6867914\ttotal: 1.15s\tremaining: 2.33s\n",
            "331:\tlearn: 2.6842022\ttotal: 1.15s\tremaining: 2.32s\n",
            "332:\tlearn: 2.6812616\ttotal: 1.15s\tremaining: 2.31s\n",
            "333:\tlearn: 2.6790303\ttotal: 1.16s\tremaining: 2.31s\n",
            "334:\tlearn: 2.6744713\ttotal: 1.16s\tremaining: 2.3s\n",
            "335:\tlearn: 2.6683966\ttotal: 1.16s\tremaining: 2.3s\n",
            "336:\tlearn: 2.6648184\ttotal: 1.16s\tremaining: 2.29s\n",
            "337:\tlearn: 2.6598484\ttotal: 1.17s\tremaining: 2.28s\n",
            "338:\tlearn: 2.6559768\ttotal: 1.17s\tremaining: 2.27s\n",
            "339:\tlearn: 2.6514471\ttotal: 1.17s\tremaining: 2.27s\n",
            "340:\tlearn: 2.6478778\ttotal: 1.17s\tremaining: 2.27s\n",
            "341:\tlearn: 2.6460348\ttotal: 1.18s\tremaining: 2.27s\n",
            "342:\tlearn: 2.6403502\ttotal: 1.18s\tremaining: 2.26s\n",
            "343:\tlearn: 2.6385029\ttotal: 1.18s\tremaining: 2.25s\n",
            "344:\tlearn: 2.6336215\ttotal: 1.18s\tremaining: 2.25s\n",
            "345:\tlearn: 2.6299611\ttotal: 1.18s\tremaining: 2.24s\n",
            "346:\tlearn: 2.6270583\ttotal: 1.19s\tremaining: 2.23s\n",
            "347:\tlearn: 2.6203424\ttotal: 1.19s\tremaining: 2.22s\n",
            "348:\tlearn: 2.6153987\ttotal: 1.19s\tremaining: 2.22s\n",
            "349:\tlearn: 2.6090672\ttotal: 1.2s\tremaining: 2.23s\n",
            "350:\tlearn: 2.6026336\ttotal: 1.2s\tremaining: 2.22s\n",
            "351:\tlearn: 2.5995798\ttotal: 1.2s\tremaining: 2.21s\n",
            "352:\tlearn: 2.5927487\ttotal: 1.2s\tremaining: 2.2s\n",
            "353:\tlearn: 2.5854282\ttotal: 1.2s\tremaining: 2.2s\n",
            "354:\tlearn: 2.5798508\ttotal: 1.21s\tremaining: 2.19s\n",
            "355:\tlearn: 2.5754186\ttotal: 1.21s\tremaining: 2.19s\n",
            "356:\tlearn: 2.5719168\ttotal: 1.22s\tremaining: 2.2s\n",
            "357:\tlearn: 2.5665915\ttotal: 1.23s\tremaining: 2.2s\n",
            "358:\tlearn: 2.5621713\ttotal: 1.23s\tremaining: 2.2s\n",
            "359:\tlearn: 2.5533911\ttotal: 1.24s\tremaining: 2.19s\n",
            "360:\tlearn: 2.5475846\ttotal: 1.24s\tremaining: 2.19s\n",
            "361:\tlearn: 2.5399452\ttotal: 1.25s\tremaining: 2.2s\n",
            "362:\tlearn: 2.5335922\ttotal: 1.25s\tremaining: 2.19s\n",
            "363:\tlearn: 2.5301414\ttotal: 1.25s\tremaining: 2.19s\n",
            "364:\tlearn: 2.5258027\ttotal: 1.25s\tremaining: 2.18s\n",
            "365:\tlearn: 2.5206619\ttotal: 1.25s\tremaining: 2.17s\n",
            "366:\tlearn: 2.5173596\ttotal: 1.26s\tremaining: 2.18s\n",
            "367:\tlearn: 2.5134815\ttotal: 1.26s\tremaining: 2.17s\n",
            "368:\tlearn: 2.5100008\ttotal: 1.27s\tremaining: 2.18s\n",
            "369:\tlearn: 2.5028144\ttotal: 1.28s\tremaining: 2.18s\n",
            "370:\tlearn: 2.4998159\ttotal: 1.28s\tremaining: 2.17s\n",
            "371:\tlearn: 2.4911644\ttotal: 1.28s\tremaining: 2.17s\n",
            "372:\tlearn: 2.4873306\ttotal: 1.29s\tremaining: 2.17s\n",
            "373:\tlearn: 2.4813575\ttotal: 1.3s\tremaining: 2.17s\n",
            "374:\tlearn: 2.4744620\ttotal: 1.3s\tremaining: 2.17s\n",
            "375:\tlearn: 2.4708807\ttotal: 1.3s\tremaining: 2.17s\n",
            "376:\tlearn: 2.4670007\ttotal: 1.31s\tremaining: 2.16s\n",
            "377:\tlearn: 2.4650678\ttotal: 1.31s\tremaining: 2.16s\n",
            "378:\tlearn: 2.4614933\ttotal: 1.32s\tremaining: 2.17s\n",
            "379:\tlearn: 2.4573151\ttotal: 1.33s\tremaining: 2.17s\n",
            "380:\tlearn: 2.4537431\ttotal: 1.34s\tremaining: 2.17s\n",
            "381:\tlearn: 2.4490311\ttotal: 1.34s\tremaining: 2.17s\n",
            "382:\tlearn: 2.4451463\ttotal: 1.34s\tremaining: 2.16s\n",
            "383:\tlearn: 2.4411615\ttotal: 1.34s\tremaining: 2.15s\n",
            "384:\tlearn: 2.4387308\ttotal: 1.35s\tremaining: 2.15s\n",
            "385:\tlearn: 2.4343873\ttotal: 1.35s\tremaining: 2.15s\n",
            "386:\tlearn: 2.4292544\ttotal: 1.35s\tremaining: 2.15s\n",
            "387:\tlearn: 2.4278813\ttotal: 1.36s\tremaining: 2.15s\n",
            "388:\tlearn: 2.4227150\ttotal: 1.37s\tremaining: 2.15s\n",
            "389:\tlearn: 2.4161265\ttotal: 1.37s\tremaining: 2.15s\n",
            "390:\tlearn: 2.4106865\ttotal: 1.38s\tremaining: 2.15s\n",
            "391:\tlearn: 2.4059880\ttotal: 1.38s\tremaining: 2.15s\n",
            "392:\tlearn: 2.4024641\ttotal: 1.39s\tremaining: 2.14s\n",
            "393:\tlearn: 2.3997167\ttotal: 1.39s\tremaining: 2.14s\n",
            "394:\tlearn: 2.3941483\ttotal: 1.4s\tremaining: 2.15s\n",
            "395:\tlearn: 2.3893593\ttotal: 1.4s\tremaining: 2.14s\n",
            "396:\tlearn: 2.3830051\ttotal: 1.41s\tremaining: 2.15s\n",
            "397:\tlearn: 2.3815999\ttotal: 1.41s\tremaining: 2.14s\n",
            "398:\tlearn: 2.3769177\ttotal: 1.42s\tremaining: 2.13s\n",
            "399:\tlearn: 2.3741651\ttotal: 1.43s\tremaining: 2.14s\n",
            "400:\tlearn: 2.3723234\ttotal: 1.43s\tremaining: 2.13s\n",
            "401:\tlearn: 2.3695777\ttotal: 1.44s\tremaining: 2.14s\n",
            "402:\tlearn: 2.3672422\ttotal: 1.45s\tremaining: 2.14s\n",
            "403:\tlearn: 2.3627443\ttotal: 1.45s\tremaining: 2.13s\n",
            "404:\tlearn: 2.3585140\ttotal: 1.45s\tremaining: 2.13s\n",
            "405:\tlearn: 2.3529827\ttotal: 1.48s\tremaining: 2.16s\n",
            "406:\tlearn: 2.3479131\ttotal: 1.48s\tremaining: 2.16s\n",
            "407:\tlearn: 2.3419515\ttotal: 1.5s\tremaining: 2.17s\n",
            "408:\tlearn: 2.3383507\ttotal: 1.5s\tremaining: 2.17s\n",
            "409:\tlearn: 2.3350703\ttotal: 1.51s\tremaining: 2.17s\n",
            "410:\tlearn: 2.3305488\ttotal: 1.51s\tremaining: 2.16s\n",
            "411:\tlearn: 2.3291708\ttotal: 1.52s\tremaining: 2.17s\n",
            "412:\tlearn: 2.3280543\ttotal: 1.53s\tremaining: 2.17s\n",
            "413:\tlearn: 2.3254059\ttotal: 1.54s\tremaining: 2.17s\n",
            "414:\tlearn: 2.3229270\ttotal: 1.54s\tremaining: 2.17s\n",
            "415:\tlearn: 2.3197053\ttotal: 1.54s\tremaining: 2.17s\n",
            "416:\tlearn: 2.3184720\ttotal: 1.56s\tremaining: 2.18s\n",
            "417:\tlearn: 2.3146911\ttotal: 1.56s\tremaining: 2.18s\n",
            "418:\tlearn: 2.3124073\ttotal: 1.56s\tremaining: 2.17s\n",
            "419:\tlearn: 2.3084747\ttotal: 1.58s\tremaining: 2.18s\n",
            "420:\tlearn: 2.3059962\ttotal: 1.58s\tremaining: 2.18s\n",
            "421:\tlearn: 2.3038244\ttotal: 1.58s\tremaining: 2.17s\n",
            "422:\tlearn: 2.3022328\ttotal: 1.59s\tremaining: 2.17s\n",
            "423:\tlearn: 2.2987940\ttotal: 1.59s\tremaining: 2.17s\n",
            "424:\tlearn: 2.2936578\ttotal: 1.6s\tremaining: 2.16s\n",
            "425:\tlearn: 2.2913848\ttotal: 1.6s\tremaining: 2.15s\n",
            "426:\tlearn: 2.2855677\ttotal: 1.6s\tremaining: 2.15s\n",
            "427:\tlearn: 2.2836401\ttotal: 1.6s\tremaining: 2.15s\n",
            "428:\tlearn: 2.2784917\ttotal: 1.61s\tremaining: 2.14s\n",
            "429:\tlearn: 2.2723454\ttotal: 1.61s\tremaining: 2.13s\n",
            "430:\tlearn: 2.2697445\ttotal: 1.61s\tremaining: 2.13s\n",
            "431:\tlearn: 2.2664617\ttotal: 1.61s\tremaining: 2.12s\n",
            "432:\tlearn: 2.2651696\ttotal: 1.62s\tremaining: 2.12s\n",
            "433:\tlearn: 2.2630828\ttotal: 1.62s\tremaining: 2.11s\n",
            "434:\tlearn: 2.2611685\ttotal: 1.62s\tremaining: 2.11s\n",
            "435:\tlearn: 2.2594613\ttotal: 1.62s\tremaining: 2.1s\n",
            "436:\tlearn: 2.2554567\ttotal: 1.63s\tremaining: 2.1s\n",
            "437:\tlearn: 2.2516072\ttotal: 1.63s\tremaining: 2.09s\n",
            "438:\tlearn: 2.2506241\ttotal: 1.63s\tremaining: 2.08s\n",
            "439:\tlearn: 2.2471113\ttotal: 1.63s\tremaining: 2.08s\n",
            "440:\tlearn: 2.2438776\ttotal: 1.64s\tremaining: 2.07s\n",
            "441:\tlearn: 2.2420286\ttotal: 1.64s\tremaining: 2.07s\n",
            "442:\tlearn: 2.2406974\ttotal: 1.64s\tremaining: 2.06s\n",
            "443:\tlearn: 2.2389695\ttotal: 1.64s\tremaining: 2.06s\n",
            "444:\tlearn: 2.2327749\ttotal: 1.65s\tremaining: 2.05s\n",
            "445:\tlearn: 2.2311168\ttotal: 1.65s\tremaining: 2.05s\n",
            "446:\tlearn: 2.2285354\ttotal: 1.65s\tremaining: 2.04s\n",
            "447:\tlearn: 2.2252564\ttotal: 1.65s\tremaining: 2.04s\n",
            "448:\tlearn: 2.2241255\ttotal: 1.66s\tremaining: 2.04s\n",
            "449:\tlearn: 2.2221290\ttotal: 1.66s\tremaining: 2.03s\n",
            "450:\tlearn: 2.2187380\ttotal: 1.66s\tremaining: 2.02s\n",
            "451:\tlearn: 2.2166657\ttotal: 1.67s\tremaining: 2.02s\n",
            "452:\tlearn: 2.2125416\ttotal: 1.67s\tremaining: 2.02s\n",
            "453:\tlearn: 2.2091795\ttotal: 1.67s\tremaining: 2.01s\n",
            "454:\tlearn: 2.2073312\ttotal: 1.67s\tremaining: 2s\n",
            "455:\tlearn: 2.2033302\ttotal: 1.69s\tremaining: 2.02s\n",
            "456:\tlearn: 2.2019764\ttotal: 1.69s\tremaining: 2.01s\n",
            "457:\tlearn: 2.1972456\ttotal: 1.7s\tremaining: 2.01s\n",
            "458:\tlearn: 2.1930190\ttotal: 1.7s\tremaining: 2s\n",
            "459:\tlearn: 2.1879126\ttotal: 1.7s\tremaining: 2s\n",
            "460:\tlearn: 2.1849929\ttotal: 1.7s\tremaining: 1.99s\n",
            "461:\tlearn: 2.1834247\ttotal: 1.71s\tremaining: 1.99s\n",
            "462:\tlearn: 2.1793425\ttotal: 1.72s\tremaining: 1.99s\n",
            "463:\tlearn: 2.1763930\ttotal: 1.72s\tremaining: 1.99s\n",
            "464:\tlearn: 2.1728484\ttotal: 1.73s\tremaining: 1.99s\n",
            "465:\tlearn: 2.1703109\ttotal: 1.73s\tremaining: 1.98s\n",
            "466:\tlearn: 2.1669192\ttotal: 1.73s\tremaining: 1.98s\n",
            "467:\tlearn: 2.1648500\ttotal: 1.74s\tremaining: 1.97s\n",
            "468:\tlearn: 2.1613246\ttotal: 1.74s\tremaining: 1.97s\n",
            "469:\tlearn: 2.1584215\ttotal: 1.74s\tremaining: 1.96s\n",
            "470:\tlearn: 2.1560001\ttotal: 1.74s\tremaining: 1.96s\n",
            "471:\tlearn: 2.1549835\ttotal: 1.75s\tremaining: 1.95s\n",
            "472:\tlearn: 2.1500086\ttotal: 1.75s\tremaining: 1.95s\n",
            "473:\tlearn: 2.1480231\ttotal: 1.75s\tremaining: 1.94s\n",
            "474:\tlearn: 2.1439733\ttotal: 1.75s\tremaining: 1.94s\n",
            "475:\tlearn: 2.1420130\ttotal: 1.76s\tremaining: 1.93s\n",
            "476:\tlearn: 2.1410078\ttotal: 1.76s\tremaining: 1.93s\n",
            "477:\tlearn: 2.1353688\ttotal: 1.76s\tremaining: 1.93s\n",
            "478:\tlearn: 2.1320454\ttotal: 1.76s\tremaining: 1.92s\n",
            "479:\tlearn: 2.1290527\ttotal: 1.77s\tremaining: 1.91s\n",
            "480:\tlearn: 2.1270195\ttotal: 1.77s\tremaining: 1.91s\n",
            "481:\tlearn: 2.1235285\ttotal: 1.77s\tremaining: 1.9s\n",
            "482:\tlearn: 2.1222637\ttotal: 1.77s\tremaining: 1.9s\n",
            "483:\tlearn: 2.1186706\ttotal: 1.78s\tremaining: 1.89s\n",
            "484:\tlearn: 2.1160874\ttotal: 1.78s\tremaining: 1.89s\n",
            "485:\tlearn: 2.1129200\ttotal: 1.78s\tremaining: 1.88s\n",
            "486:\tlearn: 2.1088608\ttotal: 1.79s\tremaining: 1.88s\n",
            "487:\tlearn: 2.1069850\ttotal: 1.79s\tremaining: 1.88s\n",
            "488:\tlearn: 2.1047771\ttotal: 1.8s\tremaining: 1.88s\n",
            "489:\tlearn: 2.1031225\ttotal: 1.8s\tremaining: 1.87s\n",
            "490:\tlearn: 2.1013744\ttotal: 1.8s\tremaining: 1.87s\n",
            "491:\tlearn: 2.0978366\ttotal: 1.81s\tremaining: 1.87s\n",
            "492:\tlearn: 2.0957980\ttotal: 1.81s\tremaining: 1.86s\n",
            "493:\tlearn: 2.0938875\ttotal: 1.81s\tremaining: 1.86s\n",
            "494:\tlearn: 2.0913982\ttotal: 1.81s\tremaining: 1.85s\n",
            "495:\tlearn: 2.0890898\ttotal: 1.82s\tremaining: 1.85s\n",
            "496:\tlearn: 2.0857973\ttotal: 1.82s\tremaining: 1.84s\n",
            "497:\tlearn: 2.0821547\ttotal: 1.83s\tremaining: 1.84s\n",
            "498:\tlearn: 2.0792049\ttotal: 1.83s\tremaining: 1.84s\n",
            "499:\tlearn: 2.0770290\ttotal: 1.84s\tremaining: 1.84s\n",
            "500:\tlearn: 2.0737420\ttotal: 1.84s\tremaining: 1.84s\n",
            "501:\tlearn: 2.0712408\ttotal: 1.85s\tremaining: 1.83s\n",
            "502:\tlearn: 2.0684389\ttotal: 1.85s\tremaining: 1.83s\n",
            "503:\tlearn: 2.0654596\ttotal: 1.86s\tremaining: 1.83s\n",
            "504:\tlearn: 2.0630783\ttotal: 1.86s\tremaining: 1.82s\n",
            "505:\tlearn: 2.0615398\ttotal: 1.88s\tremaining: 1.83s\n",
            "506:\tlearn: 2.0584407\ttotal: 1.88s\tremaining: 1.83s\n",
            "507:\tlearn: 2.0569489\ttotal: 1.89s\tremaining: 1.83s\n",
            "508:\tlearn: 2.0553777\ttotal: 1.9s\tremaining: 1.83s\n",
            "509:\tlearn: 2.0523235\ttotal: 1.9s\tremaining: 1.83s\n",
            "510:\tlearn: 2.0511185\ttotal: 1.91s\tremaining: 1.82s\n",
            "511:\tlearn: 2.0488141\ttotal: 1.91s\tremaining: 1.82s\n",
            "512:\tlearn: 2.0475870\ttotal: 1.92s\tremaining: 1.82s\n",
            "513:\tlearn: 2.0442531\ttotal: 1.93s\tremaining: 1.82s\n",
            "514:\tlearn: 2.0411823\ttotal: 1.93s\tremaining: 1.82s\n",
            "515:\tlearn: 2.0372996\ttotal: 1.94s\tremaining: 1.82s\n",
            "516:\tlearn: 2.0343398\ttotal: 1.95s\tremaining: 1.82s\n",
            "517:\tlearn: 2.0311055\ttotal: 1.95s\tremaining: 1.81s\n",
            "518:\tlearn: 2.0295561\ttotal: 1.95s\tremaining: 1.81s\n",
            "519:\tlearn: 2.0279132\ttotal: 1.96s\tremaining: 1.81s\n",
            "520:\tlearn: 2.0256278\ttotal: 1.96s\tremaining: 1.8s\n",
            "521:\tlearn: 2.0232977\ttotal: 1.97s\tremaining: 1.8s\n",
            "522:\tlearn: 2.0204898\ttotal: 1.97s\tremaining: 1.8s\n",
            "523:\tlearn: 2.0192745\ttotal: 1.97s\tremaining: 1.79s\n",
            "524:\tlearn: 2.0178323\ttotal: 1.98s\tremaining: 1.79s\n",
            "525:\tlearn: 2.0152774\ttotal: 2s\tremaining: 1.8s\n",
            "526:\tlearn: 2.0118569\ttotal: 2s\tremaining: 1.8s\n",
            "527:\tlearn: 2.0076474\ttotal: 2.01s\tremaining: 1.79s\n",
            "528:\tlearn: 2.0053410\ttotal: 2.01s\tremaining: 1.79s\n",
            "529:\tlearn: 2.0045379\ttotal: 2.01s\tremaining: 1.79s\n",
            "530:\tlearn: 2.0013418\ttotal: 2.02s\tremaining: 1.78s\n",
            "531:\tlearn: 1.9993794\ttotal: 2.02s\tremaining: 1.78s\n",
            "532:\tlearn: 1.9971845\ttotal: 2.02s\tremaining: 1.77s\n",
            "533:\tlearn: 1.9943880\ttotal: 2.03s\tremaining: 1.77s\n",
            "534:\tlearn: 1.9916532\ttotal: 2.03s\tremaining: 1.77s\n",
            "535:\tlearn: 1.9904890\ttotal: 2.03s\tremaining: 1.76s\n",
            "536:\tlearn: 1.9882409\ttotal: 2.03s\tremaining: 1.75s\n",
            "537:\tlearn: 1.9871117\ttotal: 2.04s\tremaining: 1.75s\n",
            "538:\tlearn: 1.9859346\ttotal: 2.04s\tremaining: 1.75s\n",
            "539:\tlearn: 1.9847458\ttotal: 2.04s\tremaining: 1.74s\n",
            "540:\tlearn: 1.9816764\ttotal: 2.04s\tremaining: 1.74s\n",
            "541:\tlearn: 1.9782770\ttotal: 2.07s\tremaining: 1.75s\n",
            "542:\tlearn: 1.9753571\ttotal: 2.07s\tremaining: 1.75s\n",
            "543:\tlearn: 1.9716741\ttotal: 2.08s\tremaining: 1.74s\n",
            "544:\tlearn: 1.9705563\ttotal: 2.09s\tremaining: 1.74s\n",
            "545:\tlearn: 1.9665923\ttotal: 2.09s\tremaining: 1.74s\n",
            "546:\tlearn: 1.9644109\ttotal: 2.1s\tremaining: 1.74s\n",
            "547:\tlearn: 1.9621101\ttotal: 2.1s\tremaining: 1.73s\n",
            "548:\tlearn: 1.9603575\ttotal: 2.1s\tremaining: 1.73s\n",
            "549:\tlearn: 1.9558323\ttotal: 2.11s\tremaining: 1.72s\n",
            "550:\tlearn: 1.9521411\ttotal: 2.11s\tremaining: 1.72s\n",
            "551:\tlearn: 1.9490769\ttotal: 2.12s\tremaining: 1.72s\n",
            "552:\tlearn: 1.9459828\ttotal: 2.12s\tremaining: 1.71s\n",
            "553:\tlearn: 1.9439088\ttotal: 2.12s\tremaining: 1.71s\n",
            "554:\tlearn: 1.9428138\ttotal: 2.13s\tremaining: 1.7s\n",
            "555:\tlearn: 1.9415741\ttotal: 2.13s\tremaining: 1.7s\n",
            "556:\tlearn: 1.9393568\ttotal: 2.13s\tremaining: 1.7s\n",
            "557:\tlearn: 1.9351711\ttotal: 2.14s\tremaining: 1.69s\n",
            "558:\tlearn: 1.9338772\ttotal: 2.14s\tremaining: 1.69s\n",
            "559:\tlearn: 1.9314177\ttotal: 2.14s\tremaining: 1.68s\n",
            "560:\tlearn: 1.9292882\ttotal: 2.15s\tremaining: 1.68s\n",
            "561:\tlearn: 1.9283374\ttotal: 2.15s\tremaining: 1.68s\n",
            "562:\tlearn: 1.9264951\ttotal: 2.15s\tremaining: 1.67s\n",
            "563:\tlearn: 1.9230423\ttotal: 2.16s\tremaining: 1.67s\n",
            "564:\tlearn: 1.9215844\ttotal: 2.16s\tremaining: 1.66s\n",
            "565:\tlearn: 1.9197651\ttotal: 2.16s\tremaining: 1.66s\n",
            "566:\tlearn: 1.9181565\ttotal: 2.17s\tremaining: 1.65s\n",
            "567:\tlearn: 1.9155827\ttotal: 2.17s\tremaining: 1.65s\n",
            "568:\tlearn: 1.9137943\ttotal: 2.17s\tremaining: 1.64s\n",
            "569:\tlearn: 1.9108453\ttotal: 2.18s\tremaining: 1.64s\n",
            "570:\tlearn: 1.9088528\ttotal: 2.18s\tremaining: 1.64s\n",
            "571:\tlearn: 1.9075754\ttotal: 2.19s\tremaining: 1.64s\n",
            "572:\tlearn: 1.9049897\ttotal: 2.21s\tremaining: 1.64s\n",
            "573:\tlearn: 1.9011966\ttotal: 2.21s\tremaining: 1.64s\n",
            "574:\tlearn: 1.8996063\ttotal: 2.21s\tremaining: 1.63s\n",
            "575:\tlearn: 1.8976702\ttotal: 2.21s\tremaining: 1.63s\n",
            "576:\tlearn: 1.8950695\ttotal: 2.22s\tremaining: 1.63s\n",
            "577:\tlearn: 1.8944641\ttotal: 2.22s\tremaining: 1.62s\n",
            "578:\tlearn: 1.8934964\ttotal: 2.23s\tremaining: 1.62s\n",
            "579:\tlearn: 1.8924418\ttotal: 2.24s\tremaining: 1.62s\n",
            "580:\tlearn: 1.8901659\ttotal: 2.24s\tremaining: 1.61s\n",
            "581:\tlearn: 1.8887508\ttotal: 2.24s\tremaining: 1.61s\n",
            "582:\tlearn: 1.8855577\ttotal: 2.24s\tremaining: 1.6s\n",
            "583:\tlearn: 1.8845396\ttotal: 2.25s\tremaining: 1.6s\n",
            "584:\tlearn: 1.8835826\ttotal: 2.25s\tremaining: 1.59s\n",
            "585:\tlearn: 1.8821479\ttotal: 2.25s\tremaining: 1.59s\n",
            "586:\tlearn: 1.8806909\ttotal: 2.25s\tremaining: 1.59s\n",
            "587:\tlearn: 1.8796983\ttotal: 2.26s\tremaining: 1.58s\n",
            "588:\tlearn: 1.8765203\ttotal: 2.26s\tremaining: 1.58s\n",
            "589:\tlearn: 1.8744167\ttotal: 2.27s\tremaining: 1.58s\n",
            "590:\tlearn: 1.8733461\ttotal: 2.28s\tremaining: 1.57s\n",
            "591:\tlearn: 1.8708614\ttotal: 2.29s\tremaining: 1.58s\n",
            "592:\tlearn: 1.8679771\ttotal: 2.3s\tremaining: 1.58s\n",
            "593:\tlearn: 1.8654481\ttotal: 2.3s\tremaining: 1.57s\n",
            "594:\tlearn: 1.8629020\ttotal: 2.31s\tremaining: 1.57s\n",
            "595:\tlearn: 1.8614491\ttotal: 2.32s\tremaining: 1.57s\n",
            "596:\tlearn: 1.8589738\ttotal: 2.32s\tremaining: 1.56s\n",
            "597:\tlearn: 1.8575008\ttotal: 2.33s\tremaining: 1.56s\n",
            "598:\tlearn: 1.8548117\ttotal: 2.33s\tremaining: 1.56s\n",
            "599:\tlearn: 1.8529050\ttotal: 2.33s\tremaining: 1.55s\n",
            "600:\tlearn: 1.8513672\ttotal: 2.33s\tremaining: 1.55s\n",
            "601:\tlearn: 1.8498945\ttotal: 2.34s\tremaining: 1.55s\n",
            "602:\tlearn: 1.8478170\ttotal: 2.34s\tremaining: 1.54s\n",
            "603:\tlearn: 1.8473701\ttotal: 2.35s\tremaining: 1.54s\n",
            "604:\tlearn: 1.8463451\ttotal: 2.36s\tremaining: 1.54s\n",
            "605:\tlearn: 1.8446580\ttotal: 2.36s\tremaining: 1.53s\n",
            "606:\tlearn: 1.8438643\ttotal: 2.37s\tremaining: 1.53s\n",
            "607:\tlearn: 1.8419596\ttotal: 2.37s\tremaining: 1.53s\n",
            "608:\tlearn: 1.8390123\ttotal: 2.37s\tremaining: 1.52s\n",
            "609:\tlearn: 1.8375399\ttotal: 2.38s\tremaining: 1.52s\n",
            "610:\tlearn: 1.8359249\ttotal: 2.38s\tremaining: 1.52s\n",
            "611:\tlearn: 1.8341368\ttotal: 2.39s\tremaining: 1.51s\n",
            "612:\tlearn: 1.8314856\ttotal: 2.39s\tremaining: 1.51s\n",
            "613:\tlearn: 1.8290698\ttotal: 2.4s\tremaining: 1.51s\n",
            "614:\tlearn: 1.8273688\ttotal: 2.41s\tremaining: 1.51s\n",
            "615:\tlearn: 1.8253042\ttotal: 2.41s\tremaining: 1.5s\n",
            "616:\tlearn: 1.8233392\ttotal: 2.41s\tremaining: 1.5s\n",
            "617:\tlearn: 1.8216907\ttotal: 2.42s\tremaining: 1.49s\n",
            "618:\tlearn: 1.8210402\ttotal: 2.42s\tremaining: 1.49s\n",
            "619:\tlearn: 1.8175328\ttotal: 2.42s\tremaining: 1.49s\n",
            "620:\tlearn: 1.8148454\ttotal: 2.43s\tremaining: 1.48s\n",
            "621:\tlearn: 1.8133274\ttotal: 2.43s\tremaining: 1.48s\n",
            "622:\tlearn: 1.8105754\ttotal: 2.43s\tremaining: 1.47s\n",
            "623:\tlearn: 1.8099717\ttotal: 2.44s\tremaining: 1.47s\n",
            "624:\tlearn: 1.8071597\ttotal: 2.44s\tremaining: 1.46s\n",
            "625:\tlearn: 1.8051015\ttotal: 2.44s\tremaining: 1.46s\n",
            "626:\tlearn: 1.8038580\ttotal: 2.45s\tremaining: 1.46s\n",
            "627:\tlearn: 1.8015149\ttotal: 2.45s\tremaining: 1.45s\n",
            "628:\tlearn: 1.8000343\ttotal: 2.45s\tremaining: 1.45s\n",
            "629:\tlearn: 1.7994573\ttotal: 2.46s\tremaining: 1.44s\n",
            "630:\tlearn: 1.7986229\ttotal: 2.46s\tremaining: 1.44s\n",
            "631:\tlearn: 1.7952123\ttotal: 2.46s\tremaining: 1.43s\n",
            "632:\tlearn: 1.7941889\ttotal: 2.46s\tremaining: 1.43s\n",
            "633:\tlearn: 1.7928590\ttotal: 2.47s\tremaining: 1.42s\n",
            "634:\tlearn: 1.7923372\ttotal: 2.47s\tremaining: 1.42s\n",
            "635:\tlearn: 1.7915227\ttotal: 2.47s\tremaining: 1.42s\n",
            "636:\tlearn: 1.7905911\ttotal: 2.48s\tremaining: 1.41s\n",
            "637:\tlearn: 1.7896239\ttotal: 2.48s\tremaining: 1.41s\n",
            "638:\tlearn: 1.7886648\ttotal: 2.48s\tremaining: 1.4s\n",
            "639:\tlearn: 1.7875749\ttotal: 2.49s\tremaining: 1.4s\n",
            "640:\tlearn: 1.7848945\ttotal: 2.5s\tremaining: 1.4s\n",
            "641:\tlearn: 1.7841190\ttotal: 2.51s\tremaining: 1.4s\n",
            "642:\tlearn: 1.7837299\ttotal: 2.51s\tremaining: 1.39s\n",
            "643:\tlearn: 1.7814853\ttotal: 2.51s\tremaining: 1.39s\n",
            "644:\tlearn: 1.7809448\ttotal: 2.52s\tremaining: 1.39s\n",
            "645:\tlearn: 1.7795241\ttotal: 2.52s\tremaining: 1.38s\n",
            "646:\tlearn: 1.7783954\ttotal: 2.53s\tremaining: 1.38s\n",
            "647:\tlearn: 1.7773442\ttotal: 2.53s\tremaining: 1.37s\n",
            "648:\tlearn: 1.7763547\ttotal: 2.53s\tremaining: 1.37s\n",
            "649:\tlearn: 1.7754991\ttotal: 2.54s\tremaining: 1.36s\n",
            "650:\tlearn: 1.7731987\ttotal: 2.55s\tremaining: 1.36s\n",
            "651:\tlearn: 1.7715455\ttotal: 2.55s\tremaining: 1.36s\n",
            "652:\tlearn: 1.7689175\ttotal: 2.55s\tremaining: 1.36s\n",
            "653:\tlearn: 1.7676780\ttotal: 2.56s\tremaining: 1.35s\n",
            "654:\tlearn: 1.7652229\ttotal: 2.56s\tremaining: 1.35s\n",
            "655:\tlearn: 1.7641819\ttotal: 2.57s\tremaining: 1.34s\n",
            "656:\tlearn: 1.7627199\ttotal: 2.57s\tremaining: 1.34s\n",
            "657:\tlearn: 1.7623787\ttotal: 2.57s\tremaining: 1.34s\n",
            "658:\tlearn: 1.7596914\ttotal: 2.58s\tremaining: 1.33s\n",
            "659:\tlearn: 1.7572140\ttotal: 2.58s\tremaining: 1.33s\n",
            "660:\tlearn: 1.7549306\ttotal: 2.58s\tremaining: 1.32s\n",
            "661:\tlearn: 1.7538510\ttotal: 2.59s\tremaining: 1.32s\n",
            "662:\tlearn: 1.7521065\ttotal: 2.6s\tremaining: 1.32s\n",
            "663:\tlearn: 1.7512949\ttotal: 2.6s\tremaining: 1.32s\n",
            "664:\tlearn: 1.7492468\ttotal: 2.61s\tremaining: 1.31s\n",
            "665:\tlearn: 1.7477305\ttotal: 2.61s\tremaining: 1.31s\n",
            "666:\tlearn: 1.7454507\ttotal: 2.62s\tremaining: 1.31s\n",
            "667:\tlearn: 1.7449479\ttotal: 2.62s\tremaining: 1.3s\n",
            "668:\tlearn: 1.7426761\ttotal: 2.63s\tremaining: 1.3s\n",
            "669:\tlearn: 1.7418683\ttotal: 2.63s\tremaining: 1.3s\n",
            "670:\tlearn: 1.7396670\ttotal: 2.64s\tremaining: 1.29s\n",
            "671:\tlearn: 1.7378810\ttotal: 2.64s\tremaining: 1.29s\n",
            "672:\tlearn: 1.7375643\ttotal: 2.65s\tremaining: 1.29s\n",
            "673:\tlearn: 1.7358718\ttotal: 2.65s\tremaining: 1.28s\n",
            "674:\tlearn: 1.7353100\ttotal: 2.65s\tremaining: 1.28s\n",
            "675:\tlearn: 1.7340682\ttotal: 2.66s\tremaining: 1.27s\n",
            "676:\tlearn: 1.7326433\ttotal: 2.66s\tremaining: 1.27s\n",
            "677:\tlearn: 1.7306872\ttotal: 2.66s\tremaining: 1.26s\n",
            "678:\tlearn: 1.7282523\ttotal: 2.68s\tremaining: 1.27s\n",
            "679:\tlearn: 1.7278374\ttotal: 2.68s\tremaining: 1.26s\n",
            "680:\tlearn: 1.7251659\ttotal: 2.69s\tremaining: 1.26s\n",
            "681:\tlearn: 1.7244893\ttotal: 2.69s\tremaining: 1.26s\n",
            "682:\tlearn: 1.7232469\ttotal: 2.7s\tremaining: 1.25s\n",
            "683:\tlearn: 1.7213844\ttotal: 2.71s\tremaining: 1.25s\n",
            "684:\tlearn: 1.7192181\ttotal: 2.71s\tremaining: 1.25s\n",
            "685:\tlearn: 1.7166039\ttotal: 2.72s\tremaining: 1.24s\n",
            "686:\tlearn: 1.7149579\ttotal: 2.73s\tremaining: 1.24s\n",
            "687:\tlearn: 1.7138809\ttotal: 2.74s\tremaining: 1.24s\n",
            "688:\tlearn: 1.7119977\ttotal: 2.75s\tremaining: 1.24s\n",
            "689:\tlearn: 1.7109497\ttotal: 2.75s\tremaining: 1.24s\n",
            "690:\tlearn: 1.7103037\ttotal: 2.75s\tremaining: 1.23s\n",
            "691:\tlearn: 1.7084436\ttotal: 2.76s\tremaining: 1.23s\n",
            "692:\tlearn: 1.7073231\ttotal: 2.77s\tremaining: 1.23s\n",
            "693:\tlearn: 1.7061997\ttotal: 2.77s\tremaining: 1.22s\n",
            "694:\tlearn: 1.7055695\ttotal: 2.78s\tremaining: 1.22s\n",
            "695:\tlearn: 1.7044240\ttotal: 2.79s\tremaining: 1.22s\n",
            "696:\tlearn: 1.7021646\ttotal: 2.79s\tremaining: 1.22s\n",
            "697:\tlearn: 1.7005070\ttotal: 2.8s\tremaining: 1.21s\n",
            "698:\tlearn: 1.6998139\ttotal: 2.81s\tremaining: 1.21s\n",
            "699:\tlearn: 1.6990261\ttotal: 2.82s\tremaining: 1.21s\n",
            "700:\tlearn: 1.6970179\ttotal: 2.83s\tremaining: 1.21s\n",
            "701:\tlearn: 1.6953820\ttotal: 2.84s\tremaining: 1.21s\n",
            "702:\tlearn: 1.6949154\ttotal: 2.84s\tremaining: 1.2s\n",
            "703:\tlearn: 1.6938193\ttotal: 2.85s\tremaining: 1.2s\n",
            "704:\tlearn: 1.6917215\ttotal: 2.85s\tremaining: 1.19s\n",
            "705:\tlearn: 1.6911639\ttotal: 2.86s\tremaining: 1.19s\n",
            "706:\tlearn: 1.6889795\ttotal: 2.86s\tremaining: 1.19s\n",
            "707:\tlearn: 1.6887337\ttotal: 2.86s\tremaining: 1.18s\n",
            "708:\tlearn: 1.6867054\ttotal: 2.87s\tremaining: 1.18s\n",
            "709:\tlearn: 1.6863185\ttotal: 2.87s\tremaining: 1.17s\n",
            "710:\tlearn: 1.6850159\ttotal: 2.87s\tremaining: 1.17s\n",
            "711:\tlearn: 1.6845374\ttotal: 2.88s\tremaining: 1.16s\n",
            "712:\tlearn: 1.6830506\ttotal: 2.88s\tremaining: 1.16s\n",
            "713:\tlearn: 1.6823948\ttotal: 2.88s\tremaining: 1.15s\n",
            "714:\tlearn: 1.6816112\ttotal: 2.89s\tremaining: 1.15s\n",
            "715:\tlearn: 1.6795731\ttotal: 2.89s\tremaining: 1.15s\n",
            "716:\tlearn: 1.6778718\ttotal: 2.89s\tremaining: 1.14s\n",
            "717:\tlearn: 1.6765958\ttotal: 2.9s\tremaining: 1.14s\n",
            "718:\tlearn: 1.6750726\ttotal: 2.9s\tremaining: 1.13s\n",
            "719:\tlearn: 1.6737173\ttotal: 2.9s\tremaining: 1.13s\n",
            "720:\tlearn: 1.6725937\ttotal: 2.91s\tremaining: 1.12s\n",
            "721:\tlearn: 1.6711618\ttotal: 2.91s\tremaining: 1.12s\n",
            "722:\tlearn: 1.6705204\ttotal: 2.92s\tremaining: 1.12s\n",
            "723:\tlearn: 1.6694232\ttotal: 2.92s\tremaining: 1.11s\n",
            "724:\tlearn: 1.6677292\ttotal: 2.92s\tremaining: 1.11s\n",
            "725:\tlearn: 1.6670955\ttotal: 2.92s\tremaining: 1.1s\n",
            "726:\tlearn: 1.6663784\ttotal: 2.93s\tremaining: 1.1s\n",
            "727:\tlearn: 1.6657815\ttotal: 2.93s\tremaining: 1.09s\n",
            "728:\tlearn: 1.6644252\ttotal: 2.93s\tremaining: 1.09s\n",
            "729:\tlearn: 1.6638136\ttotal: 2.94s\tremaining: 1.09s\n",
            "730:\tlearn: 1.6624814\ttotal: 2.94s\tremaining: 1.08s\n",
            "731:\tlearn: 1.6622535\ttotal: 2.94s\tremaining: 1.08s\n",
            "732:\tlearn: 1.6617268\ttotal: 2.95s\tremaining: 1.07s\n",
            "733:\tlearn: 1.6612268\ttotal: 2.95s\tremaining: 1.07s\n",
            "734:\tlearn: 1.6604015\ttotal: 2.95s\tremaining: 1.06s\n",
            "735:\tlearn: 1.6597941\ttotal: 2.96s\tremaining: 1.06s\n",
            "736:\tlearn: 1.6583817\ttotal: 2.96s\tremaining: 1.06s\n",
            "737:\tlearn: 1.6573204\ttotal: 2.96s\tremaining: 1.05s\n",
            "738:\tlearn: 1.6558351\ttotal: 2.98s\tremaining: 1.05s\n",
            "739:\tlearn: 1.6547072\ttotal: 2.98s\tremaining: 1.05s\n",
            "740:\tlearn: 1.6540488\ttotal: 2.99s\tremaining: 1.04s\n",
            "741:\tlearn: 1.6517168\ttotal: 2.99s\tremaining: 1.04s\n",
            "742:\tlearn: 1.6511215\ttotal: 2.99s\tremaining: 1.03s\n",
            "743:\tlearn: 1.6493334\ttotal: 3s\tremaining: 1.03s\n",
            "744:\tlearn: 1.6475688\ttotal: 3s\tremaining: 1.03s\n",
            "745:\tlearn: 1.6465882\ttotal: 3s\tremaining: 1.02s\n",
            "746:\tlearn: 1.6457523\ttotal: 3s\tremaining: 1.02s\n",
            "747:\tlearn: 1.6452172\ttotal: 3.01s\tremaining: 1.01s\n",
            "748:\tlearn: 1.6444286\ttotal: 3.01s\tremaining: 1.01s\n",
            "749:\tlearn: 1.6431401\ttotal: 3.01s\tremaining: 1s\n",
            "750:\tlearn: 1.6423357\ttotal: 3.01s\tremaining: 1000ms\n",
            "751:\tlearn: 1.6410187\ttotal: 3.02s\tremaining: 996ms\n",
            "752:\tlearn: 1.6386311\ttotal: 3.03s\tremaining: 993ms\n",
            "753:\tlearn: 1.6384034\ttotal: 3.03s\tremaining: 989ms\n",
            "754:\tlearn: 1.6371229\ttotal: 3.03s\tremaining: 984ms\n",
            "755:\tlearn: 1.6368816\ttotal: 3.04s\tremaining: 980ms\n",
            "756:\tlearn: 1.6359554\ttotal: 3.05s\tremaining: 978ms\n",
            "757:\tlearn: 1.6343878\ttotal: 3.05s\tremaining: 974ms\n",
            "758:\tlearn: 1.6334140\ttotal: 3.06s\tremaining: 971ms\n",
            "759:\tlearn: 1.6323649\ttotal: 3.06s\tremaining: 967ms\n",
            "760:\tlearn: 1.6307383\ttotal: 3.06s\tremaining: 962ms\n",
            "761:\tlearn: 1.6303088\ttotal: 3.07s\tremaining: 958ms\n",
            "762:\tlearn: 1.6297974\ttotal: 3.07s\tremaining: 953ms\n",
            "763:\tlearn: 1.6291061\ttotal: 3.07s\tremaining: 949ms\n",
            "764:\tlearn: 1.6286311\ttotal: 3.08s\tremaining: 945ms\n",
            "765:\tlearn: 1.6280055\ttotal: 3.08s\tremaining: 940ms\n",
            "766:\tlearn: 1.6274500\ttotal: 3.09s\tremaining: 938ms\n",
            "767:\tlearn: 1.6258299\ttotal: 3.09s\tremaining: 933ms\n",
            "768:\tlearn: 1.6249559\ttotal: 3.09s\tremaining: 929ms\n",
            "769:\tlearn: 1.6237550\ttotal: 3.1s\tremaining: 927ms\n",
            "770:\tlearn: 1.6226831\ttotal: 3.1s\tremaining: 922ms\n",
            "771:\tlearn: 1.6221999\ttotal: 3.11s\tremaining: 918ms\n",
            "772:\tlearn: 1.6210861\ttotal: 3.11s\tremaining: 913ms\n",
            "773:\tlearn: 1.6192481\ttotal: 3.11s\tremaining: 909ms\n",
            "774:\tlearn: 1.6183249\ttotal: 3.12s\tremaining: 905ms\n",
            "775:\tlearn: 1.6178157\ttotal: 3.12s\tremaining: 900ms\n",
            "776:\tlearn: 1.6166862\ttotal: 3.12s\tremaining: 896ms\n",
            "777:\tlearn: 1.6139202\ttotal: 3.12s\tremaining: 892ms\n",
            "778:\tlearn: 1.6135912\ttotal: 3.13s\tremaining: 887ms\n",
            "779:\tlearn: 1.6133785\ttotal: 3.13s\tremaining: 883ms\n",
            "780:\tlearn: 1.6128033\ttotal: 3.13s\tremaining: 879ms\n",
            "781:\tlearn: 1.6124979\ttotal: 3.13s\tremaining: 874ms\n",
            "782:\tlearn: 1.6118825\ttotal: 3.14s\tremaining: 870ms\n",
            "783:\tlearn: 1.6117713\ttotal: 3.14s\tremaining: 866ms\n",
            "784:\tlearn: 1.6099104\ttotal: 3.14s\tremaining: 861ms\n",
            "785:\tlearn: 1.6095025\ttotal: 3.15s\tremaining: 857ms\n",
            "786:\tlearn: 1.6091241\ttotal: 3.15s\tremaining: 852ms\n",
            "787:\tlearn: 1.6084806\ttotal: 3.15s\tremaining: 848ms\n",
            "788:\tlearn: 1.6063737\ttotal: 3.15s\tremaining: 843ms\n",
            "789:\tlearn: 1.6048496\ttotal: 3.16s\tremaining: 839ms\n",
            "790:\tlearn: 1.6044639\ttotal: 3.16s\tremaining: 835ms\n",
            "791:\tlearn: 1.6035742\ttotal: 3.16s\tremaining: 831ms\n",
            "792:\tlearn: 1.6025923\ttotal: 3.17s\tremaining: 826ms\n",
            "793:\tlearn: 1.6016289\ttotal: 3.17s\tremaining: 822ms\n",
            "794:\tlearn: 1.6011288\ttotal: 3.17s\tremaining: 818ms\n",
            "795:\tlearn: 1.6001666\ttotal: 3.17s\tremaining: 813ms\n",
            "796:\tlearn: 1.5988984\ttotal: 3.18s\tremaining: 809ms\n",
            "797:\tlearn: 1.5978582\ttotal: 3.18s\tremaining: 805ms\n",
            "798:\tlearn: 1.5970637\ttotal: 3.18s\tremaining: 801ms\n",
            "799:\tlearn: 1.5956082\ttotal: 3.19s\tremaining: 797ms\n",
            "800:\tlearn: 1.5947720\ttotal: 3.19s\tremaining: 793ms\n",
            "801:\tlearn: 1.5932613\ttotal: 3.19s\tremaining: 788ms\n",
            "802:\tlearn: 1.5929635\ttotal: 3.2s\tremaining: 784ms\n",
            "803:\tlearn: 1.5917092\ttotal: 3.2s\tremaining: 780ms\n",
            "804:\tlearn: 1.5905463\ttotal: 3.2s\tremaining: 776ms\n",
            "805:\tlearn: 1.5893546\ttotal: 3.2s\tremaining: 771ms\n",
            "806:\tlearn: 1.5884676\ttotal: 3.21s\tremaining: 767ms\n",
            "807:\tlearn: 1.5876135\ttotal: 3.21s\tremaining: 763ms\n",
            "808:\tlearn: 1.5870370\ttotal: 3.21s\tremaining: 759ms\n",
            "809:\tlearn: 1.5846442\ttotal: 3.22s\tremaining: 754ms\n",
            "810:\tlearn: 1.5833194\ttotal: 3.22s\tremaining: 751ms\n",
            "811:\tlearn: 1.5809719\ttotal: 3.23s\tremaining: 747ms\n",
            "812:\tlearn: 1.5806547\ttotal: 3.23s\tremaining: 742ms\n",
            "813:\tlearn: 1.5794687\ttotal: 3.23s\tremaining: 738ms\n",
            "814:\tlearn: 1.5785314\ttotal: 3.23s\tremaining: 734ms\n",
            "815:\tlearn: 1.5769213\ttotal: 3.24s\tremaining: 730ms\n",
            "816:\tlearn: 1.5758581\ttotal: 3.24s\tremaining: 725ms\n",
            "817:\tlearn: 1.5757086\ttotal: 3.24s\tremaining: 721ms\n",
            "818:\tlearn: 1.5747469\ttotal: 3.24s\tremaining: 716ms\n",
            "819:\tlearn: 1.5736198\ttotal: 3.24s\tremaining: 712ms\n",
            "820:\tlearn: 1.5713123\ttotal: 3.24s\tremaining: 707ms\n",
            "821:\tlearn: 1.5699497\ttotal: 3.24s\tremaining: 702ms\n",
            "822:\tlearn: 1.5688116\ttotal: 3.25s\tremaining: 698ms\n",
            "823:\tlearn: 1.5684099\ttotal: 3.25s\tremaining: 693ms\n",
            "824:\tlearn: 1.5680315\ttotal: 3.25s\tremaining: 689ms\n",
            "825:\tlearn: 1.5679372\ttotal: 3.25s\tremaining: 684ms\n",
            "826:\tlearn: 1.5676643\ttotal: 3.25s\tremaining: 680ms\n",
            "827:\tlearn: 1.5672640\ttotal: 3.25s\tremaining: 675ms\n",
            "828:\tlearn: 1.5655846\ttotal: 3.25s\tremaining: 671ms\n",
            "829:\tlearn: 1.5638952\ttotal: 3.25s\tremaining: 667ms\n",
            "830:\tlearn: 1.5624656\ttotal: 3.25s\tremaining: 662ms\n",
            "831:\tlearn: 1.5615966\ttotal: 3.26s\tremaining: 658ms\n",
            "832:\tlearn: 1.5604750\ttotal: 3.26s\tremaining: 653ms\n",
            "833:\tlearn: 1.5594412\ttotal: 3.26s\tremaining: 649ms\n",
            "834:\tlearn: 1.5589492\ttotal: 3.26s\tremaining: 644ms\n",
            "835:\tlearn: 1.5582027\ttotal: 3.26s\tremaining: 640ms\n",
            "836:\tlearn: 1.5576871\ttotal: 3.26s\tremaining: 635ms\n",
            "837:\tlearn: 1.5561513\ttotal: 3.26s\tremaining: 631ms\n",
            "838:\tlearn: 1.5556362\ttotal: 3.26s\tremaining: 626ms\n",
            "839:\tlearn: 1.5547619\ttotal: 3.27s\tremaining: 622ms\n",
            "840:\tlearn: 1.5540233\ttotal: 3.27s\tremaining: 618ms\n",
            "841:\tlearn: 1.5525007\ttotal: 3.27s\tremaining: 613ms\n",
            "842:\tlearn: 1.5512619\ttotal: 3.27s\tremaining: 609ms\n",
            "843:\tlearn: 1.5508986\ttotal: 3.27s\tremaining: 605ms\n",
            "844:\tlearn: 1.5499279\ttotal: 3.27s\tremaining: 600ms\n",
            "845:\tlearn: 1.5490932\ttotal: 3.27s\tremaining: 596ms\n",
            "846:\tlearn: 1.5482563\ttotal: 3.28s\tremaining: 593ms\n",
            "847:\tlearn: 1.5469188\ttotal: 3.29s\tremaining: 590ms\n",
            "848:\tlearn: 1.5454285\ttotal: 3.29s\tremaining: 586ms\n",
            "849:\tlearn: 1.5439033\ttotal: 3.3s\tremaining: 582ms\n",
            "850:\tlearn: 1.5437643\ttotal: 3.3s\tremaining: 577ms\n",
            "851:\tlearn: 1.5427811\ttotal: 3.3s\tremaining: 573ms\n",
            "852:\tlearn: 1.5416141\ttotal: 3.3s\tremaining: 569ms\n",
            "853:\tlearn: 1.5411249\ttotal: 3.3s\tremaining: 565ms\n",
            "854:\tlearn: 1.5394000\ttotal: 3.31s\tremaining: 561ms\n",
            "855:\tlearn: 1.5386873\ttotal: 3.31s\tremaining: 556ms\n",
            "856:\tlearn: 1.5385192\ttotal: 3.31s\tremaining: 552ms\n",
            "857:\tlearn: 1.5366495\ttotal: 3.31s\tremaining: 548ms\n",
            "858:\tlearn: 1.5362404\ttotal: 3.31s\tremaining: 543ms\n",
            "859:\tlearn: 1.5358788\ttotal: 3.31s\tremaining: 539ms\n",
            "860:\tlearn: 1.5346670\ttotal: 3.31s\tremaining: 535ms\n",
            "861:\tlearn: 1.5330861\ttotal: 3.31s\tremaining: 530ms\n",
            "862:\tlearn: 1.5322691\ttotal: 3.31s\tremaining: 526ms\n",
            "863:\tlearn: 1.5315249\ttotal: 3.31s\tremaining: 522ms\n",
            "864:\tlearn: 1.5305966\ttotal: 3.32s\tremaining: 518ms\n",
            "865:\tlearn: 1.5289347\ttotal: 3.32s\tremaining: 513ms\n",
            "866:\tlearn: 1.5285015\ttotal: 3.32s\tremaining: 509ms\n",
            "867:\tlearn: 1.5280052\ttotal: 3.32s\tremaining: 505ms\n",
            "868:\tlearn: 1.5273185\ttotal: 3.32s\tremaining: 501ms\n",
            "869:\tlearn: 1.5269139\ttotal: 3.32s\tremaining: 497ms\n",
            "870:\tlearn: 1.5262156\ttotal: 3.32s\tremaining: 492ms\n",
            "871:\tlearn: 1.5245044\ttotal: 3.33s\tremaining: 488ms\n",
            "872:\tlearn: 1.5234529\ttotal: 3.33s\tremaining: 484ms\n",
            "873:\tlearn: 1.5230183\ttotal: 3.33s\tremaining: 480ms\n",
            "874:\tlearn: 1.5215471\ttotal: 3.33s\tremaining: 476ms\n",
            "875:\tlearn: 1.5207841\ttotal: 3.33s\tremaining: 472ms\n",
            "876:\tlearn: 1.5194821\ttotal: 3.33s\tremaining: 467ms\n",
            "877:\tlearn: 1.5191268\ttotal: 3.33s\tremaining: 463ms\n",
            "878:\tlearn: 1.5173517\ttotal: 3.33s\tremaining: 459ms\n",
            "879:\tlearn: 1.5165419\ttotal: 3.34s\tremaining: 455ms\n",
            "880:\tlearn: 1.5162072\ttotal: 3.34s\tremaining: 451ms\n",
            "881:\tlearn: 1.5157374\ttotal: 3.34s\tremaining: 447ms\n",
            "882:\tlearn: 1.5153310\ttotal: 3.34s\tremaining: 443ms\n",
            "883:\tlearn: 1.5149615\ttotal: 3.34s\tremaining: 438ms\n",
            "884:\tlearn: 1.5138657\ttotal: 3.34s\tremaining: 434ms\n",
            "885:\tlearn: 1.5125791\ttotal: 3.34s\tremaining: 430ms\n",
            "886:\tlearn: 1.5121701\ttotal: 3.34s\tremaining: 426ms\n",
            "887:\tlearn: 1.5112555\ttotal: 3.35s\tremaining: 422ms\n",
            "888:\tlearn: 1.5094544\ttotal: 3.35s\tremaining: 418ms\n",
            "889:\tlearn: 1.5089111\ttotal: 3.35s\tremaining: 414ms\n",
            "890:\tlearn: 1.5077154\ttotal: 3.35s\tremaining: 410ms\n",
            "891:\tlearn: 1.5067333\ttotal: 3.35s\tremaining: 406ms\n",
            "892:\tlearn: 1.5054851\ttotal: 3.35s\tremaining: 402ms\n",
            "893:\tlearn: 1.5050875\ttotal: 3.35s\tremaining: 397ms\n",
            "894:\tlearn: 1.5040108\ttotal: 3.35s\tremaining: 393ms\n",
            "895:\tlearn: 1.5037103\ttotal: 3.35s\tremaining: 389ms\n",
            "896:\tlearn: 1.5028215\ttotal: 3.35s\tremaining: 385ms\n",
            "897:\tlearn: 1.5026434\ttotal: 3.36s\tremaining: 381ms\n",
            "898:\tlearn: 1.5013388\ttotal: 3.36s\tremaining: 377ms\n",
            "899:\tlearn: 1.5009432\ttotal: 3.36s\tremaining: 373ms\n",
            "900:\tlearn: 1.4999781\ttotal: 3.36s\tremaining: 369ms\n",
            "901:\tlearn: 1.4986288\ttotal: 3.36s\tremaining: 365ms\n",
            "902:\tlearn: 1.4975166\ttotal: 3.36s\tremaining: 361ms\n",
            "903:\tlearn: 1.4960988\ttotal: 3.36s\tremaining: 357ms\n",
            "904:\tlearn: 1.4953818\ttotal: 3.37s\tremaining: 353ms\n",
            "905:\tlearn: 1.4942714\ttotal: 3.37s\tremaining: 350ms\n",
            "906:\tlearn: 1.4939525\ttotal: 3.38s\tremaining: 347ms\n",
            "907:\tlearn: 1.4931684\ttotal: 3.38s\tremaining: 343ms\n",
            "908:\tlearn: 1.4927301\ttotal: 3.39s\tremaining: 339ms\n",
            "909:\tlearn: 1.4912611\ttotal: 3.39s\tremaining: 335ms\n",
            "910:\tlearn: 1.4910973\ttotal: 3.39s\tremaining: 331ms\n",
            "911:\tlearn: 1.4904384\ttotal: 3.4s\tremaining: 328ms\n",
            "912:\tlearn: 1.4889493\ttotal: 3.4s\tremaining: 324ms\n",
            "913:\tlearn: 1.4883175\ttotal: 3.4s\tremaining: 320ms\n",
            "914:\tlearn: 1.4880260\ttotal: 3.4s\tremaining: 316ms\n",
            "915:\tlearn: 1.4872084\ttotal: 3.41s\tremaining: 312ms\n",
            "916:\tlearn: 1.4864207\ttotal: 3.41s\tremaining: 308ms\n",
            "917:\tlearn: 1.4856552\ttotal: 3.41s\tremaining: 305ms\n",
            "918:\tlearn: 1.4837220\ttotal: 3.41s\tremaining: 301ms\n",
            "919:\tlearn: 1.4831483\ttotal: 3.41s\tremaining: 297ms\n",
            "920:\tlearn: 1.4829526\ttotal: 3.42s\tremaining: 293ms\n",
            "921:\tlearn: 1.4815880\ttotal: 3.42s\tremaining: 289ms\n",
            "922:\tlearn: 1.4806305\ttotal: 3.42s\tremaining: 285ms\n",
            "923:\tlearn: 1.4803148\ttotal: 3.42s\tremaining: 282ms\n",
            "924:\tlearn: 1.4790667\ttotal: 3.42s\tremaining: 278ms\n",
            "925:\tlearn: 1.4782747\ttotal: 3.43s\tremaining: 274ms\n",
            "926:\tlearn: 1.4774865\ttotal: 3.43s\tremaining: 270ms\n",
            "927:\tlearn: 1.4770318\ttotal: 3.43s\tremaining: 266ms\n",
            "928:\tlearn: 1.4758711\ttotal: 3.43s\tremaining: 262ms\n",
            "929:\tlearn: 1.4750863\ttotal: 3.44s\tremaining: 259ms\n",
            "930:\tlearn: 1.4748865\ttotal: 3.44s\tremaining: 255ms\n",
            "931:\tlearn: 1.4738069\ttotal: 3.44s\tremaining: 251ms\n",
            "932:\tlearn: 1.4731953\ttotal: 3.44s\tremaining: 247ms\n",
            "933:\tlearn: 1.4731233\ttotal: 3.44s\tremaining: 243ms\n",
            "934:\tlearn: 1.4727811\ttotal: 3.44s\tremaining: 239ms\n",
            "935:\tlearn: 1.4717376\ttotal: 3.44s\tremaining: 235ms\n",
            "936:\tlearn: 1.4714856\ttotal: 3.44s\tremaining: 232ms\n",
            "937:\tlearn: 1.4709391\ttotal: 3.45s\tremaining: 228ms\n",
            "938:\tlearn: 1.4705972\ttotal: 3.45s\tremaining: 224ms\n",
            "939:\tlearn: 1.4700479\ttotal: 3.45s\tremaining: 220ms\n",
            "940:\tlearn: 1.4696234\ttotal: 3.45s\tremaining: 217ms\n",
            "941:\tlearn: 1.4693880\ttotal: 3.45s\tremaining: 213ms\n",
            "942:\tlearn: 1.4692775\ttotal: 3.46s\tremaining: 209ms\n",
            "943:\tlearn: 1.4690027\ttotal: 3.46s\tremaining: 205ms\n",
            "944:\tlearn: 1.4687202\ttotal: 3.46s\tremaining: 201ms\n",
            "945:\tlearn: 1.4684232\ttotal: 3.46s\tremaining: 197ms\n",
            "946:\tlearn: 1.4680470\ttotal: 3.46s\tremaining: 194ms\n",
            "947:\tlearn: 1.4678632\ttotal: 3.46s\tremaining: 190ms\n",
            "948:\tlearn: 1.4671689\ttotal: 3.46s\tremaining: 186ms\n",
            "949:\tlearn: 1.4668948\ttotal: 3.46s\tremaining: 182ms\n",
            "950:\tlearn: 1.4664486\ttotal: 3.46s\tremaining: 179ms\n",
            "951:\tlearn: 1.4653365\ttotal: 3.47s\tremaining: 175ms\n",
            "952:\tlearn: 1.4642776\ttotal: 3.47s\tremaining: 171ms\n",
            "953:\tlearn: 1.4635415\ttotal: 3.47s\tremaining: 167ms\n",
            "954:\tlearn: 1.4624471\ttotal: 3.47s\tremaining: 163ms\n",
            "955:\tlearn: 1.4615306\ttotal: 3.47s\tremaining: 160ms\n",
            "956:\tlearn: 1.4612177\ttotal: 3.47s\tremaining: 156ms\n",
            "957:\tlearn: 1.4609357\ttotal: 3.47s\tremaining: 152ms\n",
            "958:\tlearn: 1.4600161\ttotal: 3.47s\tremaining: 149ms\n",
            "959:\tlearn: 1.4593289\ttotal: 3.47s\tremaining: 145ms\n",
            "960:\tlearn: 1.4589869\ttotal: 3.48s\tremaining: 141ms\n",
            "961:\tlearn: 1.4583221\ttotal: 3.48s\tremaining: 137ms\n",
            "962:\tlearn: 1.4578411\ttotal: 3.48s\tremaining: 134ms\n",
            "963:\tlearn: 1.4566968\ttotal: 3.48s\tremaining: 130ms\n",
            "964:\tlearn: 1.4549804\ttotal: 3.48s\tremaining: 126ms\n",
            "965:\tlearn: 1.4549249\ttotal: 3.48s\tremaining: 123ms\n",
            "966:\tlearn: 1.4537007\ttotal: 3.48s\tremaining: 119ms\n",
            "967:\tlearn: 1.4523853\ttotal: 3.48s\tremaining: 115ms\n",
            "968:\tlearn: 1.4520949\ttotal: 3.48s\tremaining: 111ms\n",
            "969:\tlearn: 1.4509887\ttotal: 3.48s\tremaining: 108ms\n",
            "970:\tlearn: 1.4502830\ttotal: 3.49s\tremaining: 104ms\n",
            "971:\tlearn: 1.4499448\ttotal: 3.49s\tremaining: 100ms\n",
            "972:\tlearn: 1.4487422\ttotal: 3.49s\tremaining: 96.8ms\n",
            "973:\tlearn: 1.4479593\ttotal: 3.49s\tremaining: 93.2ms\n",
            "974:\tlearn: 1.4470720\ttotal: 3.49s\tremaining: 89.5ms\n",
            "975:\tlearn: 1.4468079\ttotal: 3.49s\tremaining: 85.9ms\n",
            "976:\tlearn: 1.4464078\ttotal: 3.49s\tremaining: 82.3ms\n",
            "977:\tlearn: 1.4458656\ttotal: 3.5s\tremaining: 78.6ms\n",
            "978:\tlearn: 1.4452383\ttotal: 3.5s\tremaining: 75ms\n",
            "979:\tlearn: 1.4445017\ttotal: 3.5s\tremaining: 71.4ms\n",
            "980:\tlearn: 1.4441789\ttotal: 3.5s\tremaining: 67.8ms\n",
            "981:\tlearn: 1.4436578\ttotal: 3.5s\tremaining: 64.2ms\n",
            "982:\tlearn: 1.4429519\ttotal: 3.5s\tremaining: 60.6ms\n",
            "983:\tlearn: 1.4422255\ttotal: 3.5s\tremaining: 57ms\n",
            "984:\tlearn: 1.4416057\ttotal: 3.5s\tremaining: 53.4ms\n",
            "985:\tlearn: 1.4411581\ttotal: 3.51s\tremaining: 49.8ms\n",
            "986:\tlearn: 1.4406795\ttotal: 3.51s\tremaining: 46.2ms\n",
            "987:\tlearn: 1.4402831\ttotal: 3.51s\tremaining: 42.6ms\n",
            "988:\tlearn: 1.4394619\ttotal: 3.52s\tremaining: 39.1ms\n",
            "989:\tlearn: 1.4394093\ttotal: 3.52s\tremaining: 35.5ms\n",
            "990:\tlearn: 1.4389700\ttotal: 3.52s\tremaining: 31.9ms\n",
            "991:\tlearn: 1.4379195\ttotal: 3.52s\tremaining: 28.4ms\n",
            "992:\tlearn: 1.4374437\ttotal: 3.52s\tremaining: 24.8ms\n",
            "993:\tlearn: 1.4368322\ttotal: 3.53s\tremaining: 21.3ms\n",
            "994:\tlearn: 1.4358482\ttotal: 3.53s\tremaining: 17.7ms\n",
            "995:\tlearn: 1.4355056\ttotal: 3.53s\tremaining: 14.2ms\n",
            "996:\tlearn: 1.4351654\ttotal: 3.53s\tremaining: 10.6ms\n",
            "997:\tlearn: 1.4340849\ttotal: 3.53s\tremaining: 7.08ms\n",
            "998:\tlearn: 1.4337817\ttotal: 3.53s\tremaining: 3.54ms\n",
            "999:\tlearn: 1.4327305\ttotal: 3.53s\tremaining: 0us\n"
          ]
        },
        {
          "output_type": "execute_result",
          "data": {
            "text/plain": [
              "<catboost.core.CatBoostRegressor at 0x7d05bf342aa0>"
            ]
          },
          "metadata": {},
          "execution_count": 28
        }
      ]
    },
    {
      "cell_type": "markdown",
      "source": [],
      "metadata": {
        "id": "J8aU8RNBAwDL"
      }
    },
    {
      "cell_type": "code",
      "source": [
        "y_cat = cat_regressor.predict(X_test)\n",
        "np.set_printoptions(precision=2)\n",
        "print(np.concatenate((y_cat.reshape(len(y_cat),1), y_test.reshape(len(y_test),1)),1))"
      ],
      "metadata": {
        "colab": {
          "base_uri": "https://localhost:8080/"
        },
        "outputId": "369a1be7-ac39-4126-a0cf-f15c87d8e651",
        "id": "_jwhjIbSAwDL"
      },
      "execution_count": 29,
      "outputs": [
        {
          "output_type": "stream",
          "name": "stdout",
          "text": [
            "[[47.83 49.1 ]\n",
            " [67.53 69.8 ]\n",
            " [61.62 61.  ]\n",
            " ...\n",
            " [64.85 62.9 ]\n",
            " [66.89 65.2 ]\n",
            " [47.44 45.2 ]]\n"
          ]
        }
      ]
    },
    {
      "cell_type": "markdown",
      "source": [],
      "metadata": {
        "id": "AI0pG_sNAwDL"
      }
    },
    {
      "cell_type": "code",
      "source": [
        "r2 = r2_score(y_test, y_cat)\n",
        "\n",
        "# Calculate adjusted R squared\n",
        "n = len(y_test)  # Number of samples\n",
        "p = X.shape[1]   # Number of predictors (features) in your model\n",
        "adj_r2 = 1 - (1 - r2) * (n - 1) / (n - p - 1)\n",
        "\n",
        "# Print R-squared and adjusted R-squared\n",
        "print(f\"R squared (r2): {r2:.4f}\")\n",
        "print(f\"Adjusted R squared (adj_r2): {adj_r2:.4f}\")"
      ],
      "metadata": {
        "colab": {
          "base_uri": "https://localhost:8080/"
        },
        "outputId": "defa50d6-2d76-48ee-a04f-2e17699579e5",
        "id": "NJiTuPKwAwDL"
      },
      "execution_count": 30,
      "outputs": [
        {
          "output_type": "stream",
          "name": "stdout",
          "text": [
            "R squared (r2): 0.9722\n",
            "Adjusted R squared (adj_r2): 0.9715\n"
          ]
        }
      ]
    },
    {
      "cell_type": "markdown",
      "source": [
        "##Fine tuning & Validation\n"
      ],
      "metadata": {
        "id": "5I_NUSdvH8oJ"
      }
    },
    {
      "cell_type": "code",
      "source": [
        "#print(forest_regressor.predict([[1, 0, 0, 1 ,0 ,0 , 0,0 ,1 , 1, 0, 0 , 300 , 2 , 2624 , 13000 ]]))\n",
        "#print(XGB_regressor.predict([[1, 0, 0, 1 ,0 ,0 , 0,0 ,1 , 1, 0, 0 , 300 , 2 , 2624 , 13000 ]]))"
      ],
      "metadata": {
        "id": "rWQuLwRaIn1n"
      },
      "execution_count": 31,
      "outputs": []
    },
    {
      "cell_type": "code",
      "source": [
        "import xgboost as xgb\n",
        "from sklearn.model_selection import GridSearchCV\n",
        "\n",
        "# Define the hyperparameter grid\n",
        "param_grid = {\n",
        "    'max_depth': [4],\n",
        "    'learning_rate': [0.205],\n",
        "    'subsample': [ 0.8 ],\n",
        "    'n_estimators':[558]\n",
        "}\n",
        "\n",
        "# Create the XGBoost model object\n",
        "xgb_model = xgb.XGBRegressor()\n",
        "\n",
        "# Create the GridSearchCV object\n",
        "grid_search = GridSearchCV(xgb_model, param_grid, cv=5, scoring='r2')\n",
        "\n",
        "# Fit the GridSearchCV object to the training data\n",
        "grid_search.fit(X_train, y_train)\n",
        "\n",
        "# Print the best set of hyperparameters and the corresponding score\n",
        "print(\"Best set of hyperparameters: \", grid_search.best_params_)\n",
        "print(\"Best score: \", grid_search.best_score_)\n"
      ],
      "metadata": {
        "colab": {
          "base_uri": "https://localhost:8080/"
        },
        "id": "grO65l0ULgfU",
        "outputId": "4a9d2dc1-7ec5-42e4-a877-e8d4cf47eabb"
      },
      "execution_count": 32,
      "outputs": [
        {
          "output_type": "stream",
          "name": "stdout",
          "text": [
            "Best set of hyperparameters:  {'learning_rate': 0.205, 'max_depth': 4, 'n_estimators': 558, 'subsample': 0.8}\n",
            "Best score:  0.9732879855620602\n"
          ]
        }
      ]
    },
    {
      "cell_type": "code",
      "source": [
        "from xgboost import XGBRegressor\n",
        "XGB_regressor = XGBRegressor(max_depth = 4 , learning_rate =0.205 , subsample= 0.8 , n_estimators =558)\n",
        "XGB_regressor.fit(X_train, y_train)"
      ],
      "metadata": {
        "colab": {
          "base_uri": "https://localhost:8080/",
          "height": 248
        },
        "id": "YnxXi5x4Z1En",
        "outputId": "4301b277-8008-4ce6-843a-b60b162230c8"
      },
      "execution_count": 33,
      "outputs": [
        {
          "output_type": "execute_result",
          "data": {
            "text/plain": [
              "XGBRegressor(base_score=None, booster=None, callbacks=None,\n",
              "             colsample_bylevel=None, colsample_bynode=None,\n",
              "             colsample_bytree=None, device=None, early_stopping_rounds=None,\n",
              "             enable_categorical=False, eval_metric=None, feature_types=None,\n",
              "             gamma=None, grow_policy=None, importance_type=None,\n",
              "             interaction_constraints=None, learning_rate=0.205, max_bin=None,\n",
              "             max_cat_threshold=None, max_cat_to_onehot=None,\n",
              "             max_delta_step=None, max_depth=4, max_leaves=None,\n",
              "             min_child_weight=None, missing=nan, monotone_constraints=None,\n",
              "             multi_strategy=None, n_estimators=558, n_jobs=None,\n",
              "             num_parallel_tree=None, random_state=None, ...)"
            ],
            "text/html": [
              "<style>#sk-container-id-7 {color: black;background-color: white;}#sk-container-id-7 pre{padding: 0;}#sk-container-id-7 div.sk-toggleable {background-color: white;}#sk-container-id-7 label.sk-toggleable__label {cursor: pointer;display: block;width: 100%;margin-bottom: 0;padding: 0.3em;box-sizing: border-box;text-align: center;}#sk-container-id-7 label.sk-toggleable__label-arrow:before {content: \"▸\";float: left;margin-right: 0.25em;color: #696969;}#sk-container-id-7 label.sk-toggleable__label-arrow:hover:before {color: black;}#sk-container-id-7 div.sk-estimator:hover label.sk-toggleable__label-arrow:before {color: black;}#sk-container-id-7 div.sk-toggleable__content {max-height: 0;max-width: 0;overflow: hidden;text-align: left;background-color: #f0f8ff;}#sk-container-id-7 div.sk-toggleable__content pre {margin: 0.2em;color: black;border-radius: 0.25em;background-color: #f0f8ff;}#sk-container-id-7 input.sk-toggleable__control:checked~div.sk-toggleable__content {max-height: 200px;max-width: 100%;overflow: auto;}#sk-container-id-7 input.sk-toggleable__control:checked~label.sk-toggleable__label-arrow:before {content: \"▾\";}#sk-container-id-7 div.sk-estimator input.sk-toggleable__control:checked~label.sk-toggleable__label {background-color: #d4ebff;}#sk-container-id-7 div.sk-label input.sk-toggleable__control:checked~label.sk-toggleable__label {background-color: #d4ebff;}#sk-container-id-7 input.sk-hidden--visually {border: 0;clip: rect(1px 1px 1px 1px);clip: rect(1px, 1px, 1px, 1px);height: 1px;margin: -1px;overflow: hidden;padding: 0;position: absolute;width: 1px;}#sk-container-id-7 div.sk-estimator {font-family: monospace;background-color: #f0f8ff;border: 1px dotted black;border-radius: 0.25em;box-sizing: border-box;margin-bottom: 0.5em;}#sk-container-id-7 div.sk-estimator:hover {background-color: #d4ebff;}#sk-container-id-7 div.sk-parallel-item::after {content: \"\";width: 100%;border-bottom: 1px solid gray;flex-grow: 1;}#sk-container-id-7 div.sk-label:hover label.sk-toggleable__label {background-color: #d4ebff;}#sk-container-id-7 div.sk-serial::before {content: \"\";position: absolute;border-left: 1px solid gray;box-sizing: border-box;top: 0;bottom: 0;left: 50%;z-index: 0;}#sk-container-id-7 div.sk-serial {display: flex;flex-direction: column;align-items: center;background-color: white;padding-right: 0.2em;padding-left: 0.2em;position: relative;}#sk-container-id-7 div.sk-item {position: relative;z-index: 1;}#sk-container-id-7 div.sk-parallel {display: flex;align-items: stretch;justify-content: center;background-color: white;position: relative;}#sk-container-id-7 div.sk-item::before, #sk-container-id-7 div.sk-parallel-item::before {content: \"\";position: absolute;border-left: 1px solid gray;box-sizing: border-box;top: 0;bottom: 0;left: 50%;z-index: -1;}#sk-container-id-7 div.sk-parallel-item {display: flex;flex-direction: column;z-index: 1;position: relative;background-color: white;}#sk-container-id-7 div.sk-parallel-item:first-child::after {align-self: flex-end;width: 50%;}#sk-container-id-7 div.sk-parallel-item:last-child::after {align-self: flex-start;width: 50%;}#sk-container-id-7 div.sk-parallel-item:only-child::after {width: 0;}#sk-container-id-7 div.sk-dashed-wrapped {border: 1px dashed gray;margin: 0 0.4em 0.5em 0.4em;box-sizing: border-box;padding-bottom: 0.4em;background-color: white;}#sk-container-id-7 div.sk-label label {font-family: monospace;font-weight: bold;display: inline-block;line-height: 1.2em;}#sk-container-id-7 div.sk-label-container {text-align: center;}#sk-container-id-7 div.sk-container {/* jupyter's `normalize.less` sets `[hidden] { display: none; }` but bootstrap.min.css set `[hidden] { display: none !important; }` so we also need the `!important` here to be able to override the default hidden behavior on the sphinx rendered scikit-learn.org. See: https://github.com/scikit-learn/scikit-learn/issues/21755 */display: inline-block !important;position: relative;}#sk-container-id-7 div.sk-text-repr-fallback {display: none;}</style><div id=\"sk-container-id-7\" class=\"sk-top-container\"><div class=\"sk-text-repr-fallback\"><pre>XGBRegressor(base_score=None, booster=None, callbacks=None,\n",
              "             colsample_bylevel=None, colsample_bynode=None,\n",
              "             colsample_bytree=None, device=None, early_stopping_rounds=None,\n",
              "             enable_categorical=False, eval_metric=None, feature_types=None,\n",
              "             gamma=None, grow_policy=None, importance_type=None,\n",
              "             interaction_constraints=None, learning_rate=0.205, max_bin=None,\n",
              "             max_cat_threshold=None, max_cat_to_onehot=None,\n",
              "             max_delta_step=None, max_depth=4, max_leaves=None,\n",
              "             min_child_weight=None, missing=nan, monotone_constraints=None,\n",
              "             multi_strategy=None, n_estimators=558, n_jobs=None,\n",
              "             num_parallel_tree=None, random_state=None, ...)</pre><b>In a Jupyter environment, please rerun this cell to show the HTML representation or trust the notebook. <br />On GitHub, the HTML representation is unable to render, please try loading this page with nbviewer.org.</b></div><div class=\"sk-container\" hidden><div class=\"sk-item\"><div class=\"sk-estimator sk-toggleable\"><input class=\"sk-toggleable__control sk-hidden--visually\" id=\"sk-estimator-id-7\" type=\"checkbox\" checked><label for=\"sk-estimator-id-7\" class=\"sk-toggleable__label sk-toggleable__label-arrow\">XGBRegressor</label><div class=\"sk-toggleable__content\"><pre>XGBRegressor(base_score=None, booster=None, callbacks=None,\n",
              "             colsample_bylevel=None, colsample_bynode=None,\n",
              "             colsample_bytree=None, device=None, early_stopping_rounds=None,\n",
              "             enable_categorical=False, eval_metric=None, feature_types=None,\n",
              "             gamma=None, grow_policy=None, importance_type=None,\n",
              "             interaction_constraints=None, learning_rate=0.205, max_bin=None,\n",
              "             max_cat_threshold=None, max_cat_to_onehot=None,\n",
              "             max_delta_step=None, max_depth=4, max_leaves=None,\n",
              "             min_child_weight=None, missing=nan, monotone_constraints=None,\n",
              "             multi_strategy=None, n_estimators=558, n_jobs=None,\n",
              "             num_parallel_tree=None, random_state=None, ...)</pre></div></div></div></div></div>"
            ]
          },
          "metadata": {},
          "execution_count": 33
        }
      ]
    },
    {
      "cell_type": "code",
      "source": [
        "from sklearn.model_selection import cross_val_score\n",
        "accuracies = cross_val_score(estimator = XGB_regressor, X = X_train, y = y_train, cv=10)\n",
        "print(\"Accuracy: {:.2f} %\".format(accuracies.mean()*100))\n",
        "print(\"Standard Deviation: {:.2f} %\".format(accuracies.std()*100))"
      ],
      "metadata": {
        "colab": {
          "base_uri": "https://localhost:8080/"
        },
        "id": "L6iQuiiIIBe6",
        "outputId": "306bcc5c-0b08-42b1-d566-cc9f78817efe"
      },
      "execution_count": 34,
      "outputs": [
        {
          "output_type": "stream",
          "name": "stdout",
          "text": [
            "Accuracy: 97.42 %\n",
            "Standard Deviation: 0.66 %\n"
          ]
        }
      ]
    }
  ]
}