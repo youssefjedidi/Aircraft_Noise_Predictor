{
  "nbformat": 4,
  "nbformat_minor": 0,
  "metadata": {
    "colab": {
      "provenance": [],
      "include_colab_link": true
    },
    "kernelspec": {
      "name": "python3",
      "display_name": "Python 3"
    }
  },
  "cells": [
    {
      "cell_type": "markdown",
      "metadata": {
        "id": "view-in-github",
        "colab_type": "text"
      },
      "source": [
        "<a href=\"https://colab.research.google.com/github/youssefjedidi/Aircraft_Noise_Predictor/blob/main/aircraft_noise_predictor_ML_regression.ipynb\" target=\"_parent\"><img src=\"https://colab.research.google.com/assets/colab-badge.svg\" alt=\"Open In Colab\"/></a>"
      ]
    },
    {
      "cell_type": "markdown",
      "metadata": {
        "id": "CazISR8X_HUG"
      },
      "source": [
        "# ML Regression models"
      ]
    },
    {
      "cell_type": "markdown",
      "metadata": {
        "id": "pOyqYHTk_Q57"
      },
      "source": [
        "## Importing the libraries"
      ]
    },
    {
      "cell_type": "code",
      "metadata": {
        "id": "T_YHJjnD_Tja"
      },
      "source": [
        "import numpy as np\n",
        "import matplotlib.pyplot as plt\n",
        "import pandas as pd"
      ],
      "execution_count": null,
      "outputs": []
    },
    {
      "cell_type": "markdown",
      "metadata": {
        "id": "vgC61-ah_WIz"
      },
      "source": [
        "## Importing the dataset"
      ]
    },
    {
      "cell_type": "code",
      "metadata": {
        "id": "UrxyEKGn_ez7"
      },
      "source": [
        "dataset = pd.read_csv('aircraft_noise.csv')\n",
        "X = dataset.iloc[:, 1:-1].values\n",
        "y = dataset.iloc[:, -1].values"
      ],
      "execution_count": null,
      "outputs": []
    },
    {
      "cell_type": "code",
      "metadata": {
        "id": "GOB3QhV9B5kD"
      },
      "source": [
        "print(X)"
      ],
      "execution_count": null,
      "outputs": []
    },
    {
      "cell_type": "markdown",
      "metadata": {
        "id": "VadrvE7s_lS9"
      },
      "source": [
        "## Encoding categorical data"
      ]
    },
    {
      "cell_type": "code",
      "metadata": {
        "id": "wV3fD1mbAvsh"
      },
      "source": [
        "from sklearn.compose import ColumnTransformer\n",
        "from sklearn.preprocessing import OneHotEncoder\n",
        "ct = ColumnTransformer(transformers=[('encoder', OneHotEncoder(), [  1 , 0 ,3 ])], remainder='passthrough')\n",
        "X = np.array(ct.fit_transform(X))"
      ],
      "execution_count": null,
      "outputs": []
    },
    {
      "cell_type": "code",
      "metadata": {
        "id": "4ym3HdYeCGYG"
      },
      "source": [
        "print(X)"
      ],
      "execution_count": null,
      "outputs": []
    },
    {
      "cell_type": "markdown",
      "metadata": {
        "id": "WemVnqgeA70k"
      },
      "source": [
        "## Splitting the dataset into the Training set and Test set"
      ]
    },
    {
      "cell_type": "code",
      "metadata": {
        "id": "Kb_v_ae-A-20"
      },
      "source": [
        "from sklearn.model_selection import train_test_split\n",
        "X_train, X_test, y_train, y_test = train_test_split(X, y, test_size = 0.2, random_state = 0)"
      ],
      "execution_count": null,
      "outputs": []
    },
    {
      "cell_type": "markdown",
      "source": [
        "## Multiple Linear Regression\n"
      ],
      "metadata": {
        "id": "1bQtFvUiEsay"
      }
    },
    {
      "cell_type": "markdown",
      "metadata": {
        "id": "k-McZVsQBINc"
      },
      "source": [
        "### Training the Multiple Linear Regression model on the Training set"
      ]
    },
    {
      "cell_type": "code",
      "metadata": {
        "id": "ywPjx0L1BMiD"
      },
      "source": [
        "from sklearn.linear_model import LinearRegression\n",
        "regressor = LinearRegression()\n",
        "regressor.fit(X_train, y_train)"
      ],
      "execution_count": null,
      "outputs": []
    },
    {
      "cell_type": "markdown",
      "metadata": {
        "id": "xNkXL1YQBiBT"
      },
      "source": [
        "### Predicting the Test set results"
      ]
    },
    {
      "cell_type": "code",
      "metadata": {
        "id": "TQKmwvtdBkyb"
      },
      "source": [
        "y_pred = regressor.predict(X_test)\n",
        "np.set_printoptions(precision=2)\n",
        "print(np.concatenate((y_pred.reshape(len(y_pred),1), y_test.reshape(len(y_test),1)),1))"
      ],
      "execution_count": null,
      "outputs": []
    },
    {
      "cell_type": "markdown",
      "source": [
        "### Testing accuracy"
      ],
      "metadata": {
        "id": "uwoHWWZZjli_"
      }
    },
    {
      "cell_type": "code",
      "source": [
        "def mean_absolute_percentage_error(y_true, y_pred):\n",
        "    return (np.mean(np.abs((y_true - y_pred) / y_true)) * 100)\n",
        "\n",
        "mape = mean_absolute_percentage_error(y_test, y_pred)\n",
        "\n",
        "print(f\"Mean Absolute Percentage Error (MAPE): {mape:.2f}%\")\n",
        "print(regressor.predict([[1, 0, 0, 1 ,0 ,0 , 0,0 ,1 , 300]]))\n",
        "\n",
        "from sklearn.metrics import r2_score\n",
        "\n",
        "# Assuming y_test contains the actual target values and y_pred contains the predicted values\n",
        "# Calculate R squared\n",
        "r2 = r2_score(y_test, y_pred)\n",
        "\n",
        "# Print MSE\n",
        "print(f\" R squared  (r2): {r2:.2f}\")"
      ],
      "metadata": {
        "id": "qobpe3IqjrZP"
      },
      "execution_count": null,
      "outputs": []
    },
    {
      "cell_type": "markdown",
      "source": [
        "## Polynomial Regression"
      ],
      "metadata": {
        "id": "KaiCIk9BFVCZ"
      }
    },
    {
      "cell_type": "markdown",
      "source": [
        "### Training"
      ],
      "metadata": {
        "id": "i3yITgkBFgRN"
      }
    },
    {
      "cell_type": "code",
      "source": [
        "from sklearn.preprocessing import PolynomialFeatures\n",
        "poly_reg = PolynomialFeatures(degree = 3)\n",
        "X_poly = poly_reg.fit_transform(X_train)\n",
        "lin_reg_2 = LinearRegression()\n",
        "lin_reg_2.fit(X_poly, y_train)"
      ],
      "metadata": {
        "id": "nPVIdxshFeW6"
      },
      "execution_count": null,
      "outputs": []
    },
    {
      "cell_type": "markdown",
      "source": [
        "### Predecting the Test set Results"
      ],
      "metadata": {
        "id": "ZR8sas0oGWO-"
      }
    },
    {
      "cell_type": "code",
      "source": [
        "y_poly = lin_reg_2.predict(poly_reg.fit_transform(X_test))\n",
        "np.set_printoptions(precision=2)\n",
        "print(np.concatenate((y_poly.reshape(len(y_poly),1), y_test.reshape(len(y_test),1)),1))"
      ],
      "metadata": {
        "id": "z38Xsvn6Gcbz"
      },
      "execution_count": null,
      "outputs": []
    },
    {
      "cell_type": "markdown",
      "source": [
        "### Testing accuracy"
      ],
      "metadata": {
        "id": "cZKYpoz1ISBA"
      }
    },
    {
      "cell_type": "code",
      "source": [
        "\n",
        "mape = mean_absolute_percentage_error(y_test, y_poly)\n",
        "\n",
        "print(f\"Mean Absolute Percentage Error (MAPE): {mape:.2f}%\")\n",
        "print(lin_reg_2.predict(poly_reg.fit_transform([[1, 0, 0, 1 ,0 ,0 , 0,0 ,1 , 300]])))\n",
        "\n",
        "from sklearn.metrics import r2_score\n",
        "\n",
        "# Assuming y_test contains the actual target values and y_pred contains the predicted values\n",
        "# Calculate R squared\n",
        "r2_poly = r2_score(y_test, y_poly)\n",
        "\n",
        "# Print MSE\n",
        "print(f\" R squared  (r2): {r2_poly:.2f}\")"
      ],
      "metadata": {
        "id": "1FS9WwJDIXaq"
      },
      "execution_count": null,
      "outputs": []
    },
    {
      "cell_type": "markdown",
      "source": [
        "## Support Vector Regression (SVR)"
      ],
      "metadata": {
        "id": "AvKhRRoBJpg1"
      }
    },
    {
      "cell_type": "markdown",
      "source": [
        "### Feature Scaling"
      ],
      "metadata": {
        "id": "pSAduU4eJsXn"
      }
    },
    {
      "cell_type": "code",
      "source": [
        "from sklearn.preprocessing import StandardScaler\n",
        "\n",
        "# Reshape input data to 2D array\n",
        "X_reshaped = X[:, 3].reshape(-1, 1)  # Reshape only the fourth column\n",
        "X_test_reshaped = X_test[:, 3].reshape(-1, 1)\n",
        "\n",
        "# Initialize StandardScaler for the fourth column\n",
        "sc_X = StandardScaler()\n",
        "\n",
        "# Fit and transform the fourth column\n",
        "X_scaled = X.copy()  # Create a copy of X to keep other columns unchanged\n",
        "X_scaled[:, 3] = sc_X.fit_transform(X_reshaped).flatten()  # Scale and update the fourth column\n",
        "\n",
        "X_test_scaled = X_test.copy()\n",
        "X_test_scaled[:, 3] = sc_X.fit_transform(X_test_reshaped).flatten()\n",
        "\n",
        "# Initialize StandardScaler for the target variable\n",
        "sc_y = StandardScaler()\n",
        "y_scaled = sc_y.fit_transform(y.reshape(-1, 1))  # Fit and transform the target variable\n",
        "y_test_scaled = sc_y.fit_transform(y_test.reshape(-1, 1))\n",
        "\n",
        "# Now X_scaled and y_scaled are scaled versions of X and y using StandardScaler\n",
        "print(\"Scaled X:\")\n",
        "print(X_scaled)\n",
        "print(\"\\nScaled y:\")\n",
        "print(y_scaled)"
      ],
      "metadata": {
        "id": "92vXmJ_JJ0HP"
      },
      "execution_count": null,
      "outputs": []
    },
    {
      "cell_type": "markdown",
      "source": [
        "### Training the SVR model"
      ],
      "metadata": {
        "id": "4G_sbM2XLUpe"
      }
    },
    {
      "cell_type": "code",
      "source": [
        "from sklearn.svm import SVR\n",
        "sv_regressor = SVR(kernel = 'poly')\n",
        "sv_regressor.fit(X_scaled, y_scaled)"
      ],
      "metadata": {
        "colab": {
          "base_uri": "https://localhost:8080/"
        },
        "id": "iyQ2qflTLXhD",
        "outputId": "34430dd2-0f31-4b50-dd50-363be5014b65"
      },
      "execution_count": null,
      "outputs": [
        {
          "metadata": {
            "tags": null
          },
          "name": "stderr",
          "output_type": "stream",
          "text": [
            "/usr/local/lib/python3.10/dist-packages/sklearn/utils/validation.py:1143: DataConversionWarning: A column-vector y was passed when a 1d array was expected. Please change the shape of y to (n_samples, ), for example using ravel().\n",
            "  y = column_or_1d(y, warn=True)\n"
          ]
        }
      ]
    },
    {
      "cell_type": "markdown",
      "source": [
        "### Predicting"
      ],
      "metadata": {
        "id": "wbOMCZnJLhp-"
      }
    },
    {
      "cell_type": "code",
      "source": [
        "# Perform predictions using the SVR model on the scaled test features\n",
        "y_svr_scaled = sv_regressor.predict(X_test_scaled)\n",
        "\n",
        "# Inverse transform the scaled predictions to get them back to the original scale\n",
        "y_svr = sc_y.inverse_transform(y_svr_scaled.reshape(-1, 1))\n",
        "\n",
        "np.set_printoptions(precision=2)\n",
        "print(np.concatenate((y_svr.reshape(len(y_svr),1), y_test.reshape(len(y_test),1)),1))"
      ],
      "metadata": {
        "id": "wNJoeaiLLjvT"
      },
      "execution_count": null,
      "outputs": []
    },
    {
      "cell_type": "markdown",
      "source": [
        "### Testing accuracy"
      ],
      "metadata": {
        "id": "-RxpZXtFPIWT"
      }
    },
    {
      "cell_type": "code",
      "source": [
        "\n",
        "mape = mean_absolute_percentage_error(y_test, y_svr)\n",
        "\n",
        "print(f\"Mean Absolute Percentage Error (MAPE): {mape:.2f}%\")\n",
        "\n",
        "from sklearn.metrics import r2_score\n",
        "\n",
        "# Assuming y_test contains the actual target values and y_pred contains the predicted values\n",
        "# Calculate R squared\n",
        "r2_poly = r2_score(y_test, y_svr)\n",
        "\n",
        "# Print MSE\n",
        "print(f\" R squared  (r2): {r2_poly:.2f}\")"
      ],
      "metadata": {
        "id": "bNSypRQ7PLaw"
      },
      "execution_count": null,
      "outputs": []
    },
    {
      "cell_type": "markdown",
      "source": [
        "## Random Forest"
      ],
      "metadata": {
        "id": "0iNjAa2lQO7a"
      }
    },
    {
      "cell_type": "markdown",
      "source": [
        "### Training the Random model on the Training set"
      ],
      "metadata": {
        "id": "g92OdZP_QuCZ"
      }
    },
    {
      "cell_type": "code",
      "source": [
        "from sklearn.ensemble import RandomForestRegressor\n",
        "regressor = RandomForestRegressor(n_estimators = 10, random_state = 0)\n",
        "regressor.fit(X, y)"
      ],
      "metadata": {
        "id": "NF2fJZ1-QyAF"
      },
      "execution_count": null,
      "outputs": []
    }
  ]
}